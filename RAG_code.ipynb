{
 "cells": [
  {
   "cell_type": "markdown",
   "id": "d0271810-bf7a-4c3e-8238-6c480a25beb8",
   "metadata": {},
   "source": [
    "# Get Market insights using LLM+RAG\n",
    "\n",
    "This below libraries sets up an environment for using multiple language models and AI tools. It:  \n",
    "\n",
    "- Suppresses warnings for a cleaner output.  \n",
    "- Imports Google search functionality.  \n",
    "- Loads various modules from LangChain (an AI framework for working with LLMs).  \n",
    "- Imports OpenAI and Hugging Face endpoints for AI interactions.  \n",
    "- Defines tools for handling prompt templates, chains, and output parsing.  \n",
    "- Includes API token handling for authentication.  \n",
    "\n",
    "Essentially, this script is preparing an AI-powered system for querying and processing language models efficiently. "
   ]
  },
  {
   "cell_type": "code",
   "execution_count": 17,
   "id": "8c63dd72-92f1-4351-9a38-667659119de7",
   "metadata": {},
   "outputs": [],
   "source": [
    "import warnings as wn\n",
    "wn.filterwarnings('ignore')\n",
    "\n",
    "from googlesearch import search\n",
    "from typing import Literal\n",
    "\n",
    "from langchain_core.prompts import ChatPromptTemplate\n",
    "from langchain_openai import ChatOpenAI\n",
    "from langchain_openai import ChatOpenAI\n",
    "from langchain_huggingface import HuggingFaceEndpoint\n",
    "from api_token import LargeLanguageModel\n",
    "from langchain import LLMChain, PromptTemplate\n",
    "from langchain.llms import OpenAI\n",
    "from langchain.prompts import BasePromptTemplate\n",
    "from langchain.chains import RouterChain\n",
    "from langchain_core.output_parsers import StrOutputParser, JsonOutputParser\n",
    "from langchain_core.prompts import PromptTemplate\n",
    "import openai\n",
    "import os"
   ]
  },
  {
   "cell_type": "markdown",
   "id": "37174fd8-ed8d-4ae0-82e9-2f877809c256",
   "metadata": {},
   "source": [
    "### Code Explaination\n",
    "- Retrieves an API key using the `LargeLanguageModel` class.  \n",
    "- Uses the Hugging Face `HuggingFaceEndpoint` to load the **Mistral-7B-Instruct-v0.3** model.  \n",
    "- Configures the model with specific parameters:  \n",
    "  - **`max_new_tokens=500`** (limits response length).  \n",
    "  - **`temperature=0.1`** (low randomness, making outputs more deterministic).  \n",
    "\n",
    "The purpose is to set up an AI model for generating controlled and structured text responses."
   ]
  },
  {
   "cell_type": "code",
   "execution_count": 20,
   "id": "f411aa10-3be4-41d6-80da-ec5796859ada",
   "metadata": {},
   "outputs": [
    {
     "name": "stdout",
     "output_type": "stream",
     "text": [
      "The token has not been saved to the git credentials helper. Pass `add_to_git_credential=True` in this function directly or `--add-to-git-credential` if using via `huggingface-cli` if you want to set the git credential as well.\n",
      "Token is valid (permission: fineGrained).\n",
      "Your token has been saved to /home/junaid-ul-hassan/.cache/huggingface/token\n",
      "Login successful\n"
     ]
    }
   ],
   "source": [
    "api = LargeLanguageModel()\n",
    "api_key = api.get_Key()\n",
    "\n",
    "llm = HuggingFaceEndpoint(\n",
    "    name=\"WEB_PILOT\",\n",
    "    huggingfacehub_api_token=api_key,\n",
    "    repo_id= 'mistralai/Mistral-7B-Instruct-v0.3',\n",
    "    task=\"text-generation\",\n",
    "    max_new_tokens=1000,\n",
    "    temperature=0.1\n",
    ")"
   ]
  },
  {
   "cell_type": "code",
   "execution_count": 14,
   "id": "5e44e929-36ec-4482-a86f-7f935190789b",
   "metadata": {},
   "outputs": [],
   "source": [
    "os.environ['OPENAI_API_KEY'] = api.get_gpt_key()\n",
    "openai.api_key = os.environ['OPENAI_API_KEY']"
   ]
  },
  {
   "cell_type": "code",
   "execution_count": 15,
   "id": "59a8f2d5-004b-46dc-9a19-fcc3b8c2fa61",
   "metadata": {},
   "outputs": [],
   "source": [
    "llm = ChatOpenAI(model=\"gpt-4o-mini\")"
   ]
  },
  {
   "cell_type": "code",
   "execution_count": 21,
   "id": "dddeec35-e6d6-437d-945b-524c58fe736d",
   "metadata": {},
   "outputs": [
    {
     "data": {
      "text/plain": [
       "',\\n\\nI\\'m trying to use the \"Add to cart\" button on a product page to add a product to the cart.\\n\\nI\\'ve added the following code to the product page:\\n\\n```\\n<form action=\"{% url \\'cart:add\\' product.id %}\" method=\"post\">\\n    {% csrf_token %}\\n    <button type=\"submit\">Add to cart</button>\\n</form>\\n```\\n\\nWhen I click the button, I get the following error:\\n\\n```\\nNoReverseMatch at /products/product-name/\\nReverse for \\'cart:add\\' with arguments \\'(\\'\\',)\\' not found. 1 pattern(s) tried: [\\'cart/add/(?P<product_id>[0-9]+)/$\\']\\n```\\n\\nI\\'m not sure what\\'s causing this error. I\\'ve checked the URLs in the admin panel and the URL for the \"Add to cart\" view is correct.\\n\\nAny help would be appreciated.\\n\\nBest,\\n[Your Name]\\n\\nTo resolve the issue, you need to make sure that the `product.id` variable is being passed correctly to the URL. Here are a few things you can check:\\n\\n1. Make sure that the `product` variable is being passed to the template correctly. You can check this by adding `{{ product }}` to the template and verifying that the product object is being displayed correctly.\\n2. Check that the `product.id` attribute exists and is not empty. You can do this by adding `{% if product.id %}` before the form and `{% endif %}` after it.\\n3. Check that the URL pattern for the \"Add to cart\" view is correct. You can do this by adding `{% url \\'cart:add\\' product.id %}` to the template and verifying that the URL is being generated correctly.\\n4. Make sure that the `cart:add` view is defined in your URL patterns. You can check this by adding `path(\\'cart/add/<int:product_id>/\\', views.add_to_cart, name=\\'cart:add\\'),` to your URL patterns in your `urls.py` file.\\n\\nOnce you\\'ve checked these things, the error should be resolved and the \"Add to cart\" button should work correctly.\\n\\nBest,\\n[Your Name]'"
      ]
     },
     "execution_count": 21,
     "metadata": {},
     "output_type": "execute_result"
    }
   ],
   "source": [
    "llm(\"Hi\")"
   ]
  },
  {
   "cell_type": "markdown",
   "id": "f60ff084-4de0-44b1-b981-cd2e97f8e40f",
   "metadata": {},
   "source": [
    "### Code Explaination\n",
    "\n",
    "This code is designed for web scraping using **BeautifulSoup**:  \n",
    "\n",
    "- **`beautifulsoup_scrape(url)`**: Fetches the webpage content using `requests`, with a user-agent header to mimic a browser. If successful, it returns a parsed HTML soup object.  \n",
    "- **`extract_all_text(soup)`**: Extracts and returns all visible text from the parsed webpage, separating text elements with spaces.  \n",
    "\n",
    "The purpose is to retrieve and process webpage text data efficiently."
   ]
  },
  {
   "cell_type": "code",
   "execution_count": 22,
   "id": "8804cd68-1464-4510-8c0d-485b3ca3d5d7",
   "metadata": {},
   "outputs": [],
   "source": [
    "import requests\n",
    "from bs4 import BeautifulSoup\n",
    "\n",
    "# Function to scrape data using BeautifulSoup\n",
    "def beautifulsoup_scrape(url):\n",
    "    headers = {\"User-Agent\": \"Mozilla/5.0 (Windows NT 10.0; Win64; x64)\"}\n",
    "    response = requests.get(url, headers=headers)\n",
    "    \n",
    "    if response.status_code == 200:\n",
    "        soup = BeautifulSoup(response.text, 'html.parser')\n",
    "        return soup\n",
    "    else:\n",
    "        return None\n",
    "\n",
    "# Function to extract all text from the webpage\n",
    "def extract_all_text(soup):\n",
    "    if soup:\n",
    "        text = soup.get_text(separator=' ', strip=True)\n",
    "        return text\n",
    "    return None\n"
   ]
  },
  {
   "cell_type": "markdown",
   "id": "33326643-f531-4137-a0dc-92d8836e2ad0",
   "metadata": {},
   "source": [
    "### Code Explaination\n",
    "\n",
    "This code scrapes and extracts all text from the **CNBC TSLA stock profile page**:  \n",
    "\n",
    "- Defines the **URL** for Tesla’s stock profile on CNBC.  \n",
    "- Calls `beautifulsoup_scrape(url)` to fetch and parse the webpage.  \n",
    "- Calls `extract_all_text(soup)` to extract all visible text from the page.  \n",
    "- Prints a message indicating the scraping process.  \n",
    "\n",
    "The purpose is to retrieve textual data from Tesla’s CNBC stock profile for further analysis."
   ]
  },
  {
   "cell_type": "code",
   "execution_count": 51,
   "id": "65731438-27a2-4a4d-a688-b142f0705a42",
   "metadata": {},
   "outputs": [
    {
     "name": "stdout",
     "output_type": "stream",
     "text": [
      "Scraping all text from the webpage...\n"
     ]
    }
   ],
   "source": [
    "url = \"https://finance.yahoo.com/quote/TSLA/analysis/\"  # CNBC TSLA stock data\n",
    "print(\"Scraping all text from the webpage...\")\n",
    "    \n",
    "# Using BeautifulSoup for scraping\n",
    "soup = beautifulsoup_scrape(url)\n",
    "    \n",
    "# Extracting all text\n",
    "scraped_text = extract_all_text(soup)"
   ]
  },
  {
   "cell_type": "code",
   "execution_count": 52,
   "id": "068ccf5f-ae0e-46af-9d0c-6c2c37fbcecb",
   "metadata": {},
   "outputs": [
    {
     "data": {
      "text/plain": [
       "9617"
      ]
     },
     "execution_count": 52,
     "metadata": {},
     "output_type": "execute_result"
    }
   ],
   "source": [
    "len(scraped_text)"
   ]
  },
  {
   "cell_type": "code",
   "execution_count": 53,
   "id": "2ba52a10-803f-4377-b768-a04e3bd0d46b",
   "metadata": {},
   "outputs": [
    {
     "data": {
      "text/plain": [
       "\"ter Personal Finance Credit Cards Banking Best HYSA Student Loans Personal Loans Insurance Mortgages Mortgage Calculator Taxes Videos Latest Editor's Picks Investing Insights Trending Stocks All Shows Morning Brief Opening Bid Wealth ETF Report Trade This Way Options 101 Davos 2025 Streaming Now … Summary News Chart Conversations Statistics Historical Data Profile Financials Analysis Options Holders Sustainability Unlock stock picks and a broker-level newsfeed that powers Wall Street. Upgrade Now NasdaqGS - Nasdaq Real Time Price • USD Tesla, Inc. (TSLA) Follow Compare 337.80 -16.60 (-4.68%) At close: 4:00:00 PM EST 337.78 -0.02 (-0.01%) After hours: 4:07:00 PM EST Research Analysis Earnings Per Share Consensus EPS Revenue vs. Earnings Revenue 25.71B Earnings 2.32B Q1'24 Q2'24 Q3'24 Q4'24 0 5B 10B 15B 20B 25B Analyst Recommendations Strong Buy Buy Hold Underperform Sell Analyst Price Targets 135.00 Low 342.58 Average 337.80 Current 550.00 High Earnings Estimate Currency in USD Current Qtr. (Mar 2025) Next Qtr. (Jun 2025) Current Year (2025) Next Year (2026) No. of Analysts 24 23 36 33 Avg. Estimate 0.52 0.68 2.84 3.74 Low Estimate 0.24 0.35 1.58 2.05 High Estimate 0.82 0.9 4.13 7.31 Year Ago EPS 0.45 0.52 2.42 2.84 Revenue Estimate Currency in USD Current Qtr. (Mar 2025) Next Qtr. (Jun 2025) Current Year (2025) Next Year (2026) No. of Analysts 24 23 48 44 Avg. Estimate 23.98B 27.28B 111.85B 133.56B Low Estimate 21.54B 24.92B 99.85B 108.83B High Estimate 27.07B 29.69B 128.06B 162.42B Year Ago Sales 21.3B 25.5B 97.69B 111.85B Sales Growth (year/est) 12.56% 6.98% 14.49% 19.41% Earnings History Currency in USD 3/31/2024 6/30/2024 9/30/2024 12/31/2024 EPS Est. 0.49 0.62 0.6 0.77 EPS Actual 0.45 0.52 0.72 0.73 Difference -0.04 -0.1 0.12 -0.04 Surprise % -8.14% -16.15% 20.49% -4.83% EPS Trend Currency in USD Current Qtr. (Mar 2025) Next Qtr. (Jun 2025) Current Year (2025) Next Year (2026) Current Estimate 0.52 0.68 2.84 3.74 7 Days Ago 0.52 0.68 2.86 3.77 30 Days Ago 0.7 0.8 3.26 4.14 60 Days Ago 0.71 0.81 3.26 4 90 Days Ago 0.69 0.79 3.26 4.07 EPS Revisions Currency in USD Current Qtr. (Mar 2025) Next Qtr. (Jun 2025) Current Year (2025) Next Year (2026) Up Last 7 Days 2 2 -- -- Up Last 30 Days 1 2 4 4 Down Last 7 Days 13 13 6 6 Down Last 30 Days 13 12 26 16 Growth Estimates Current Qtr. Next Qtr. Current Year Next Year TSLA 15.83% 30.19% 17.41% 31.70% S&P 500 14.39% 7.67% 10.93% 14.14% Top Analysts Yahoo Finance’s Top Analysts section provides an objective scorecard to evaluate the accuracy of Wall Street analyst ratings and price targets. Learn More Analyst Overall Score Direction Score Price Score Latest Rating Price Target Date Piper Sandler 68 54 96 Overweight 500 2025-01-21 Canaccord Genuity 65 49 94 Buy 400 2025-01-04 Morgan Stanley 64 49 94 Overweight 430 2025-01-14 Baird 63 47 96 Outperform 440 2025-01-30 Wedbush 62 42 97 Outperform 550 2025-01-22 Jefferies 61 42 95 Hold 300 2024-11-15 Bernstein 60 35 97 Underperform 120 2024-10-04 RBC Capital 59 42 96 Outperform 440 2025-01-30 Mizuho 59 45 98 Outperform 515 2025-01-30 KGI Securities 59 39 98 Outperform 276 2024-10-24 Rows per page 10 10 15 25 1-10 of 30 Upgrades & Downgrades Initiated Benchmark: Buy 2/12/2025 Reiterates GLJ Research: Sell to Sell 2/12/2025 Maintains Stifel: Buy to Buy 2/10/2025 Reiterates Needham: Hold to Hold 2/10/2025 Reiterates Guggenheim: Sell to Sell 1/31/2025 Maintains UBS: Sell to Sell 1/30/2025 More Upgrades & Downgrades Related Tickers RIVN Rivian Automotive, Inc. 12.97 -4.70% NIO NIO Inc. 4.4450 +1.72% LCID Lucid Group, Inc. 3.0600 -7.55% F Ford Motor Company 9.29 -1.06% \""
      ]
     },
     "execution_count": 53,
     "metadata": {},
     "output_type": "execute_result"
    }
   ],
   "source": [
    "scraped_text = scraped_text[4000:-2000]\n",
    "scraped_text"
   ]
  },
  {
   "cell_type": "code",
   "execution_count": 59,
   "id": "44ea8179-3cca-4b81-94b8-de5b89fbac24",
   "metadata": {},
   "outputs": [
    {
     "data": {
      "text/plain": [
       "3617"
      ]
     },
     "execution_count": 59,
     "metadata": {},
     "output_type": "execute_result"
    }
   ],
   "source": [
    "len(scraped_text)"
   ]
  },
  {
   "cell_type": "markdown",
   "id": "ebc1822e-244d-47ea-92dc-1c8c75010267",
   "metadata": {},
   "source": [
    "### Code Explaination\n",
    "This code sets up an **AI-powered stock analysis system** using LangChain:  \n",
    "\n",
    "- **Defines a structured prompt** instructing an AI stock assistant to analyze Tesla stock data.  \n",
    "- **Key analysis areas**: stock trends, market sentiment, technical indicators, economic factors, and price predictions.  \n",
    "- **Formats the response in JSON** for structured output.  \n",
    "- **Uses `LLMChain`** to process the stock data (`scraped_text`) with the Hugging Face model (`llm`).  \n",
    "- **Calls `chain.invoke(...)`** to generate the analysis based on the scraped Tesla stock data.  \n",
    "\n",
    "The purpose is to automate Tesla stock analysis using AI and present insights in a structured JSON format."
   ]
  },
  {
   "cell_type": "code",
   "execution_count": 54,
   "id": "0e728ef5-c38f-46c5-8b81-695349f63d6f",
   "metadata": {},
   "outputs": [],
   "source": [
    "from langchain.prompts import PromptTemplate\n",
    "from langchain.chains import LLMChain\n",
    "\n",
    "# Define the prompt template with JSON format instruction\n",
    "prompt_template = PromptTemplate.from_template(\n",
    "    \"\"\"\n",
    "    You are an AI Stock Assistant specializing in Tesla market insights. Your task is to analyze the latest Tesla stock data and provide insights on market trends, news, and potential stock movements.\n",
    "\n",
    "    Based on the given data, consider these key factors:\n",
    "    - Today's stock price trends.\n",
    "    - Market sentiment and news impact.\n",
    "    - Technical analysis indicators.\n",
    "    - Economic and industry factors.\n",
    "    - Predictions on price movement (up/down).\n",
    "\n",
    "    <analysis>\n",
    "    {data}\n",
    "    </analysis>\n",
    "\n",
    "    Provide a structured JSON response with the following keys:\n",
    "    {{\n",
    "      \"trend_analysis\": \"Summary of stock price trends\",\n",
    "      \"market_sentiment\": \"Impact of news and general sentiment\",\n",
    "      \"technical_indicators\": \"Technical analysis insights\",\n",
    "      \"economic_factors\": \"Economic and industry-related factors\",\n",
    "      \"prediction\": \"Predicted stock movement: up or down\"\n",
    "    }}\n",
    "\n",
    "    Return just valid JSON.\n",
    "    \"\"\"\n",
    ")\n",
    "# Create the LLM chain\n",
    "chain = LLMChain(prompt=prompt_template, llm=llm)\n",
    "\n",
    "# Invoke the chain with stock data\n",
    "cat = chain.invoke({\"data\": scraped_text})\n"
   ]
  },
  {
   "cell_type": "code",
   "execution_count": 55,
   "id": "a957141e-a4ea-4dd5-84d4-cb844cabd51a",
   "metadata": {},
   "outputs": [
    {
     "name": "stdout",
     "output_type": "stream",
     "text": [
      " {\n",
      "      \"trend_analysis\": \"Tesla's stock price closed at $337.80, down by 4.68%. After hours, it is trading at $337.78, a slight decrease of 0.01%.\",\n",
      "      \"market_sentiment\": \"The market sentiment appears to be negative, with the stock experiencing a significant drop in price. However, it's important to note that the stock has shown some resilience in after-hours trading.\",\n",
      "      \"technical_indicators\": \"The 50-day moving average is currently at $337.80, and the 200-day moving average is at $337.80. The Relative Strength Index (RSI) is at 34.45, indicating the stock is in an oversold territory.\",\n",
      "      \"economic_factors\": \"Economic factors such as interest rates and inflation are currently impacting the automotive industry. Tesla's Q1'24 earnings report showed a slight miss on EPS, but revenue was in line with expectations.\",\n",
      "      \"prediction\": \"Based on the current trends and technical indicators, the stock is predicted to continue its downward movement.\"\n",
      "    }\n"
     ]
    }
   ],
   "source": [
    "results = cat['text']\n",
    "print(cat['text'])"
   ]
  },
  {
   "cell_type": "markdown",
   "id": "c59ac6ab-e99c-4ead-a0a7-a70617e97830",
   "metadata": {},
   "source": [
    "### Code Explaination\n",
    "\n",
    "This code **extracts and parses JSON data** from the AI-generated stock analysis:  \n",
    "\n",
    "- **`extract_json(text)`**:  \n",
    "  - Uses regex to find JSON-like content in `text`.  \n",
    "  - Attempts to parse it using `json.loads()`.  \n",
    "  - Returns formatted JSON if valid; otherwise, an error message.  \n",
    "\n",
    "- **`market_analysis = json.loads(extract_json(results))`**:  \n",
    "  - Calls `extract_json(results)` to extract JSON from the AI response (`results`).  \n",
    "  - Parses the extracted JSON into a Python dictionary (`market_analysis`).  \n",
    "\n",
    "The purpose is to **ensure the AI-generated stock insights are correctly formatted and usable for further processing**."
   ]
  },
  {
   "cell_type": "code",
   "execution_count": 56,
   "id": "66318202-eaf8-4bdf-ad59-f91b57b90f8f",
   "metadata": {},
   "outputs": [],
   "source": [
    "import json\n",
    "import re\n",
    "\n",
    "def extract_json(text):\n",
    "    match = re.search(r\"\\{.*\\}\", text, re.DOTALL)\n",
    "    if match:\n",
    "        json_data = match.group()\n",
    "        try:\n",
    "            parsed_json = json.loads(json_data)\n",
    "            return json.dumps(parsed_json, indent=2)\n",
    "        except json.JSONDecodeError:\n",
    "            return \"Invalid JSON format\"\n",
    "    return \"No JSON found\"\n",
    "\n",
    "market_analysis = json.loads(extract_json(results))"
   ]
  },
  {
   "cell_type": "code",
   "execution_count": 57,
   "id": "d682bbcf-c28c-4db7-9ebc-c4fb3aa290fa",
   "metadata": {},
   "outputs": [],
   "source": [
    "market_analysis = json.loads(extract_json(results))"
   ]
  },
  {
   "cell_type": "code",
   "execution_count": 58,
   "id": "63fe5a8b-dd95-41f4-a63d-7f2eab72a8ec",
   "metadata": {},
   "outputs": [
    {
     "data": {
      "text/plain": [
       "{'trend_analysis': \"Tesla's stock price closed at $337.80, down by 4.68%. After hours, it is trading at $337.78, a slight decrease of 0.01%.\",\n",
       " 'market_sentiment': \"The market sentiment appears to be negative, with the stock experiencing a significant drop in price. However, it's important to note that the stock has shown some resilience in after-hours trading.\",\n",
       " 'technical_indicators': 'The 50-day moving average is currently at $337.80, and the 200-day moving average is at $337.80. The Relative Strength Index (RSI) is at 34.45, indicating the stock is in an oversold territory.',\n",
       " 'economic_factors': \"Economic factors such as interest rates and inflation are currently impacting the automotive industry. Tesla's Q1'24 earnings report showed a slight miss on EPS, but revenue was in line with expectations.\",\n",
       " 'prediction': 'Based on the current trends and technical indicators, the stock is predicted to continue its downward movement.'}"
      ]
     },
     "execution_count": 58,
     "metadata": {},
     "output_type": "execute_result"
    }
   ],
   "source": [
    "market_analysis"
   ]
  },
  {
   "cell_type": "code",
   "execution_count": null,
   "id": "30c6bff0-6cfd-404a-b707-2d47fed45076",
   "metadata": {},
   "outputs": [],
   "source": []
  }
 ],
 "metadata": {
  "kernelspec": {
   "display_name": "Python 3 (ipykernel)",
   "language": "python",
   "name": "python3"
  },
  "language_info": {
   "codemirror_mode": {
    "name": "ipython",
    "version": 3
   },
   "file_extension": ".py",
   "mimetype": "text/x-python",
   "name": "python",
   "nbconvert_exporter": "python",
   "pygments_lexer": "ipython3",
   "version": "3.11.7"
  }
 },
 "nbformat": 4,
 "nbformat_minor": 5
}
