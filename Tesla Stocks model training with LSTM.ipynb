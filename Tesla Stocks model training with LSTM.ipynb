{
 "cells": [
  {
   "cell_type": "markdown",
   "id": "31a50d34-718c-4a3f-80dd-aa8e9fc15301",
   "metadata": {},
   "source": [
    "# Tesla Stock Prediction with LSTMs"
   ]
  },
  {
   "cell_type": "markdown",
   "id": "e7442c13-8f7d-44cc-8a45-c740c0f30ef5",
   "metadata": {},
   "source": [
    "## Imports several libraries and tools for data processing and machine learning\n",
    "\n",
    "- **NumPy** for numerical operations.\n",
    "- **Pandas** for data manipulation (e.g., working with CSV files).\n",
    "- **Matplotlib** and **Seaborn** for data visualization.\n",
    "- **Scikit-learn** tools for scaling data (MinMaxScaler, StandardScaler), applying custom transformations (FunctionTransformer), and splitting data into training and testing sets (train_test_split). "
   ]
  },
  {
   "cell_type": "code",
   "execution_count": 89,
   "id": "330be371-5218-4df6-8aa7-7c3a5a2a7997",
   "metadata": {},
   "outputs": [],
   "source": [
    "import numpy as np # linear algebra\n",
    "import pandas as pd # data processing, CSV file I/O (e.g. pd.read_csv)\n",
    "import matplotlib.pyplot as plt\n",
    "import seaborn as sns\n",
    "from sklearn.preprocessing import MinMaxScaler, StandardScaler\n",
    "from sklearn.preprocessing import FunctionTransformer\n",
    "from sklearn.model_selection import train_test_split\n",
    "from sklearn.metrics import r2_score"
   ]
  },
  {
   "cell_type": "code",
   "execution_count": 90,
   "id": "626cd3fe-ced0-47a3-b3cb-c957f56189e0",
   "metadata": {},
   "outputs": [
    {
     "data": {
      "text/html": [
       "<div>\n",
       "<style scoped>\n",
       "    .dataframe tbody tr th:only-of-type {\n",
       "        vertical-align: middle;\n",
       "    }\n",
       "\n",
       "    .dataframe tbody tr th {\n",
       "        vertical-align: top;\n",
       "    }\n",
       "\n",
       "    .dataframe thead th {\n",
       "        text-align: right;\n",
       "    }\n",
       "</style>\n",
       "<table border=\"1\" class=\"dataframe\">\n",
       "  <thead>\n",
       "    <tr style=\"text-align: right;\">\n",
       "      <th></th>\n",
       "      <th>Date</th>\n",
       "      <th>Close/Last</th>\n",
       "      <th>Volume</th>\n",
       "      <th>Open</th>\n",
       "      <th>High</th>\n",
       "      <th>Low</th>\n",
       "    </tr>\n",
       "  </thead>\n",
       "  <tbody>\n",
       "    <tr>\n",
       "      <th>0</th>\n",
       "      <td>02/18/2025</td>\n",
       "      <td>$354.11</td>\n",
       "      <td>51631700</td>\n",
       "      <td>$355.01</td>\n",
       "      <td>$359.10</td>\n",
       "      <td>$350.02</td>\n",
       "    </tr>\n",
       "    <tr>\n",
       "      <th>1</th>\n",
       "      <td>02/14/2025</td>\n",
       "      <td>$355.84</td>\n",
       "      <td>68277280</td>\n",
       "      <td>$360.62</td>\n",
       "      <td>$362.00</td>\n",
       "      <td>$347.50</td>\n",
       "    </tr>\n",
       "    <tr>\n",
       "      <th>2</th>\n",
       "      <td>02/13/2025</td>\n",
       "      <td>$355.94</td>\n",
       "      <td>89441520</td>\n",
       "      <td>$345.00</td>\n",
       "      <td>$358.69</td>\n",
       "      <td>$342.85</td>\n",
       "    </tr>\n",
       "    <tr>\n",
       "      <th>3</th>\n",
       "      <td>02/12/2025</td>\n",
       "      <td>$336.51</td>\n",
       "      <td>105382700</td>\n",
       "      <td>$329.94</td>\n",
       "      <td>$346.40</td>\n",
       "      <td>$329.12</td>\n",
       "    </tr>\n",
       "    <tr>\n",
       "      <th>4</th>\n",
       "      <td>02/11/2025</td>\n",
       "      <td>$328.50</td>\n",
       "      <td>118543400</td>\n",
       "      <td>$345.80</td>\n",
       "      <td>$349.37</td>\n",
       "      <td>$325.10</td>\n",
       "    </tr>\n",
       "  </tbody>\n",
       "</table>\n",
       "</div>"
      ],
      "text/plain": [
       "         Date Close/Last     Volume     Open     High      Low\n",
       "0  02/18/2025    $354.11   51631700  $355.01  $359.10  $350.02\n",
       "1  02/14/2025    $355.84   68277280  $360.62  $362.00  $347.50\n",
       "2  02/13/2025    $355.94   89441520  $345.00  $358.69  $342.85\n",
       "3  02/12/2025    $336.51  105382700  $329.94  $346.40  $329.12\n",
       "4  02/11/2025    $328.50  118543400  $345.80  $349.37  $325.10"
      ]
     },
     "execution_count": 90,
     "metadata": {},
     "output_type": "execute_result"
    }
   ],
   "source": [
    "df = pd.read_csv('HistoricalData_tesla.csv')\n",
    "df.head()"
   ]
  },
  {
   "cell_type": "code",
   "execution_count": 91,
   "id": "d9b2ef5b-3953-4683-8ab8-13c017e3b947",
   "metadata": {},
   "outputs": [],
   "source": [
    "df['Date'] = pd.to_datetime(df['Date'])"
   ]
  },
  {
   "cell_type": "code",
   "execution_count": 92,
   "id": "41f7a231-13da-4b9a-b4b3-ff4058b4f3a8",
   "metadata": {},
   "outputs": [],
   "source": [
    "# Sort by date in ascending order\n",
    "df = df.sort_values(by='Date')"
   ]
  },
  {
   "cell_type": "code",
   "execution_count": 93,
   "id": "8b10e340-63f4-4092-a4fe-25da08563f9d",
   "metadata": {},
   "outputs": [
    {
     "data": {
      "text/html": [
       "<div>\n",
       "<style scoped>\n",
       "    .dataframe tbody tr th:only-of-type {\n",
       "        vertical-align: middle;\n",
       "    }\n",
       "\n",
       "    .dataframe tbody tr th {\n",
       "        vertical-align: top;\n",
       "    }\n",
       "\n",
       "    .dataframe thead th {\n",
       "        text-align: right;\n",
       "    }\n",
       "</style>\n",
       "<table border=\"1\" class=\"dataframe\">\n",
       "  <thead>\n",
       "    <tr style=\"text-align: right;\">\n",
       "      <th></th>\n",
       "      <th>Date</th>\n",
       "      <th>Close/Last</th>\n",
       "      <th>Volume</th>\n",
       "      <th>Open</th>\n",
       "      <th>High</th>\n",
       "      <th>Low</th>\n",
       "    </tr>\n",
       "  </thead>\n",
       "  <tbody>\n",
       "    <tr>\n",
       "      <th>2514</th>\n",
       "      <td>2015-02-19</td>\n",
       "      <td>$14.1137</td>\n",
       "      <td>77058006</td>\n",
       "      <td>$13.6667</td>\n",
       "      <td>$14.1627</td>\n",
       "      <td>$13.5833</td>\n",
       "    </tr>\n",
       "    <tr>\n",
       "      <th>2513</th>\n",
       "      <td>2015-02-20</td>\n",
       "      <td>$14.474</td>\n",
       "      <td>89675595</td>\n",
       "      <td>$14.052</td>\n",
       "      <td>$14.5067</td>\n",
       "      <td>$13.9873</td>\n",
       "    </tr>\n",
       "    <tr>\n",
       "      <th>2512</th>\n",
       "      <td>2015-02-23</td>\n",
       "      <td>$13.8223</td>\n",
       "      <td>127306901</td>\n",
       "      <td>$14.3773</td>\n",
       "      <td>$14.5467</td>\n",
       "      <td>$13.7553</td>\n",
       "    </tr>\n",
       "    <tr>\n",
       "      <th>2511</th>\n",
       "      <td>2015-02-24</td>\n",
       "      <td>$13.6073</td>\n",
       "      <td>98809421</td>\n",
       "      <td>$13.8193</td>\n",
       "      <td>$13.8193</td>\n",
       "      <td>$13.4467</td>\n",
       "    </tr>\n",
       "    <tr>\n",
       "      <th>2510</th>\n",
       "      <td>2015-02-25</td>\n",
       "      <td>$13.584</td>\n",
       "      <td>58612546</td>\n",
       "      <td>$13.6627</td>\n",
       "      <td>$13.8093</td>\n",
       "      <td>$13.5053</td>\n",
       "    </tr>\n",
       "    <tr>\n",
       "      <th>...</th>\n",
       "      <td>...</td>\n",
       "      <td>...</td>\n",
       "      <td>...</td>\n",
       "      <td>...</td>\n",
       "      <td>...</td>\n",
       "      <td>...</td>\n",
       "    </tr>\n",
       "    <tr>\n",
       "      <th>4</th>\n",
       "      <td>2025-02-11</td>\n",
       "      <td>$328.50</td>\n",
       "      <td>118543400</td>\n",
       "      <td>$345.80</td>\n",
       "      <td>$349.37</td>\n",
       "      <td>$325.10</td>\n",
       "    </tr>\n",
       "    <tr>\n",
       "      <th>3</th>\n",
       "      <td>2025-02-12</td>\n",
       "      <td>$336.51</td>\n",
       "      <td>105382700</td>\n",
       "      <td>$329.94</td>\n",
       "      <td>$346.40</td>\n",
       "      <td>$329.12</td>\n",
       "    </tr>\n",
       "    <tr>\n",
       "      <th>2</th>\n",
       "      <td>2025-02-13</td>\n",
       "      <td>$355.94</td>\n",
       "      <td>89441520</td>\n",
       "      <td>$345.00</td>\n",
       "      <td>$358.69</td>\n",
       "      <td>$342.85</td>\n",
       "    </tr>\n",
       "    <tr>\n",
       "      <th>1</th>\n",
       "      <td>2025-02-14</td>\n",
       "      <td>$355.84</td>\n",
       "      <td>68277280</td>\n",
       "      <td>$360.62</td>\n",
       "      <td>$362.00</td>\n",
       "      <td>$347.50</td>\n",
       "    </tr>\n",
       "    <tr>\n",
       "      <th>0</th>\n",
       "      <td>2025-02-18</td>\n",
       "      <td>$354.11</td>\n",
       "      <td>51631700</td>\n",
       "      <td>$355.01</td>\n",
       "      <td>$359.10</td>\n",
       "      <td>$350.02</td>\n",
       "    </tr>\n",
       "  </tbody>\n",
       "</table>\n",
       "<p>2515 rows × 6 columns</p>\n",
       "</div>"
      ],
      "text/plain": [
       "           Date Close/Last     Volume      Open      High       Low\n",
       "2514 2015-02-19   $14.1137   77058006  $13.6667  $14.1627  $13.5833\n",
       "2513 2015-02-20    $14.474   89675595   $14.052  $14.5067  $13.9873\n",
       "2512 2015-02-23   $13.8223  127306901  $14.3773  $14.5467  $13.7553\n",
       "2511 2015-02-24   $13.6073   98809421  $13.8193  $13.8193  $13.4467\n",
       "2510 2015-02-25    $13.584   58612546  $13.6627  $13.8093  $13.5053\n",
       "...         ...        ...        ...       ...       ...       ...\n",
       "4    2025-02-11    $328.50  118543400   $345.80   $349.37   $325.10\n",
       "3    2025-02-12    $336.51  105382700   $329.94   $346.40   $329.12\n",
       "2    2025-02-13    $355.94   89441520   $345.00   $358.69   $342.85\n",
       "1    2025-02-14    $355.84   68277280   $360.62   $362.00   $347.50\n",
       "0    2025-02-18    $354.11   51631700   $355.01   $359.10   $350.02\n",
       "\n",
       "[2515 rows x 6 columns]"
      ]
     },
     "execution_count": 93,
     "metadata": {},
     "output_type": "execute_result"
    }
   ],
   "source": [
    "df"
   ]
  },
  {
   "cell_type": "code",
   "execution_count": 94,
   "id": "9902fcb8-2f1f-443d-b091-6a7083da0a44",
   "metadata": {},
   "outputs": [],
   "source": [
    "import pandas as pd\n",
    "\n",
    "# Columns containing prices\n",
    "price_columns = ['Close/Last', 'Open', 'High', 'Low']\n",
    "\n",
    "# Remove the '$' sign and convert to float\n",
    "for col in price_columns:\n",
    "    df[col] = df[col].replace('[\\$,]', '', regex=True).astype(float)"
   ]
  },
  {
   "cell_type": "code",
   "execution_count": 95,
   "id": "6df0021b-3ad5-4b5a-a02f-7848fdb9d121",
   "metadata": {},
   "outputs": [
    {
     "name": "stdout",
     "output_type": "stream",
     "text": [
      "<class 'pandas.core.frame.DataFrame'>\n",
      "Index: 2515 entries, 2514 to 0\n",
      "Data columns (total 6 columns):\n",
      " #   Column      Non-Null Count  Dtype         \n",
      "---  ------      --------------  -----         \n",
      " 0   Date        2515 non-null   datetime64[ns]\n",
      " 1   Close/Last  2515 non-null   float64       \n",
      " 2   Volume      2515 non-null   int64         \n",
      " 3   Open        2515 non-null   float64       \n",
      " 4   High        2515 non-null   float64       \n",
      " 5   Low         2515 non-null   float64       \n",
      "dtypes: datetime64[ns](1), float64(4), int64(1)\n",
      "memory usage: 137.5 KB\n"
     ]
    }
   ],
   "source": [
    "# INFORMATION ABOUT DATASET\n",
    "df.info()"
   ]
  },
  {
   "cell_type": "code",
   "execution_count": 96,
   "id": "8b9c0831-f814-4bcb-85a0-3a31888fed19",
   "metadata": {},
   "outputs": [
    {
     "data": {
      "text/html": [
       "<div>\n",
       "<style scoped>\n",
       "    .dataframe tbody tr th:only-of-type {\n",
       "        vertical-align: middle;\n",
       "    }\n",
       "\n",
       "    .dataframe tbody tr th {\n",
       "        vertical-align: top;\n",
       "    }\n",
       "\n",
       "    .dataframe thead th {\n",
       "        text-align: right;\n",
       "    }\n",
       "</style>\n",
       "<table border=\"1\" class=\"dataframe\">\n",
       "  <thead>\n",
       "    <tr style=\"text-align: right;\">\n",
       "      <th></th>\n",
       "      <th>Close/Last</th>\n",
       "    </tr>\n",
       "  </thead>\n",
       "  <tbody>\n",
       "    <tr>\n",
       "      <th>2514</th>\n",
       "      <td>14.1137</td>\n",
       "    </tr>\n",
       "    <tr>\n",
       "      <th>2513</th>\n",
       "      <td>14.4740</td>\n",
       "    </tr>\n",
       "    <tr>\n",
       "      <th>2512</th>\n",
       "      <td>13.8223</td>\n",
       "    </tr>\n",
       "    <tr>\n",
       "      <th>2511</th>\n",
       "      <td>13.6073</td>\n",
       "    </tr>\n",
       "    <tr>\n",
       "      <th>2510</th>\n",
       "      <td>13.5840</td>\n",
       "    </tr>\n",
       "  </tbody>\n",
       "</table>\n",
       "</div>"
      ],
      "text/plain": [
       "      Close/Last\n",
       "2514     14.1137\n",
       "2513     14.4740\n",
       "2512     13.8223\n",
       "2511     13.6073\n",
       "2510     13.5840"
      ]
     },
     "execution_count": 96,
     "metadata": {},
     "output_type": "execute_result"
    }
   ],
   "source": [
    "# CHOSE CLOSE PRICE FROM DATASET FOR PREDICTION\n",
    "close_price = df[['Close/Last']]\n",
    "close_price.head()"
   ]
  },
  {
   "cell_type": "code",
   "execution_count": 97,
   "id": "ea9e8b8b-b3e3-4823-9c54-5b970a5dda36",
   "metadata": {},
   "outputs": [
    {
     "data": {
      "image/png": "[encoded data removed]",
      "text/plain": [
       "<Figure size 1400x600 with 1 Axes>"
      ]
     },
     "metadata": {},
     "output_type": "display_data"
    }
   ],
   "source": [
    "import matplotlib.pyplot as plt\n",
    "import seaborn as sns\n",
    "\n",
    "# Setting Seaborn style\n",
    "sns.set(style=\"whitegrid\")\n",
    "\n",
    "# Creating the plot\n",
    "plt.figure(figsize=(14, 6))\n",
    "\n",
    "# Plotting the 'close' price\n",
    "sns.lineplot(data=df, x='Date', y='Close/Last', label='Close Price', color='tomato', linewidth=2)\n",
    "\n",
    "# Adding a shaded area for high and low\n",
    "plt.fill_between(x=df['Date'], y1=df['High'], y2= df['Low'], color='skyblue', alpha=0.2, label='High-Low Range')\n",
    "\n",
    "# Adding plot details\n",
    "plt.title('Tesla Stock Price Over Time with High-Low Range', fontsize=16)\n",
    "plt.xlabel('Date', fontsize=14)\n",
    "plt.ylabel('Price (USD)', fontsize=14)\n",
    "plt.legend(fontsize=12)\n",
    "plt.xticks(fontsize=12, rotation=45)\n",
    "plt.yticks(fontsize=12)\n",
    "plt.tight_layout()\n",
    "\n",
    "# Displaying the plot\n",
    "plt.show()\n"
   ]
  },
  {
   "cell_type": "code",
   "execution_count": 98,
   "id": "a03c2ced-a83c-4a62-ab97-bdca307557f4",
   "metadata": {},
   "outputs": [],
   "source": [
    "def create_feature_target_dataframe(df, column, window_size=5):\n",
    "    values = df[column].values\n",
    "    \n",
    "    # Initialize lists to store the feature rows and targets\n",
    "    features = []\n",
    "    targets = []\n",
    "    columns = []\n",
    "\n",
    "    # Loop through the values, taking 5 values as features and the 6th as the target\n",
    "    for i in range(len(values) - window_size):\n",
    "        feature_row = values[i:i+window_size]\n",
    "        target = values[i+window_size]\n",
    "        \n",
    "        # Append the feature row and target to the respective lists\n",
    "        features.append(feature_row)\n",
    "        targets.append(target)\n",
    "\n",
    "    for i in range(window_size):\n",
    "        col = f\"x{i+1}\"\n",
    "        columns.append(col)\n",
    "        \n",
    "    # Create a new DataFrame from the feature rows and targets\n",
    "    new_df = pd.DataFrame(features, columns=columns)\n",
    "    new_df['target'] = targets\n",
    "    \n",
    "    return new_df"
   ]
  },
  {
   "cell_type": "code",
   "execution_count": 99,
   "id": "0d288cde-f197-41f7-833e-149be0255cc0",
   "metadata": {},
   "outputs": [
    {
     "data": {
      "text/html": [
       "<div>\n",
       "<style scoped>\n",
       "    .dataframe tbody tr th:only-of-type {\n",
       "        vertical-align: middle;\n",
       "    }\n",
       "\n",
       "    .dataframe tbody tr th {\n",
       "        vertical-align: top;\n",
       "    }\n",
       "\n",
       "    .dataframe thead th {\n",
       "        text-align: right;\n",
       "    }\n",
       "</style>\n",
       "<table border=\"1\" class=\"dataframe\">\n",
       "  <thead>\n",
       "    <tr style=\"text-align: right;\">\n",
       "      <th></th>\n",
       "      <th>x1</th>\n",
       "      <th>x2</th>\n",
       "      <th>x3</th>\n",
       "      <th>x4</th>\n",
       "      <th>x5</th>\n",
       "      <th>x6</th>\n",
       "      <th>x7</th>\n",
       "      <th>target</th>\n",
       "    </tr>\n",
       "  </thead>\n",
       "  <tbody>\n",
       "    <tr>\n",
       "      <th>2498</th>\n",
       "      <td>406.58</td>\n",
       "      <td>397.15</td>\n",
       "      <td>398.09</td>\n",
       "      <td>389.10</td>\n",
       "      <td>400.28</td>\n",
       "      <td>404.60</td>\n",
       "      <td>383.68</td>\n",
       "      <td>392.21</td>\n",
       "    </tr>\n",
       "    <tr>\n",
       "      <th>2499</th>\n",
       "      <td>397.15</td>\n",
       "      <td>398.09</td>\n",
       "      <td>389.10</td>\n",
       "      <td>400.28</td>\n",
       "      <td>404.60</td>\n",
       "      <td>383.68</td>\n",
       "      <td>392.21</td>\n",
       "      <td>378.17</td>\n",
       "    </tr>\n",
       "    <tr>\n",
       "      <th>2500</th>\n",
       "      <td>398.09</td>\n",
       "      <td>389.10</td>\n",
       "      <td>400.28</td>\n",
       "      <td>404.60</td>\n",
       "      <td>383.68</td>\n",
       "      <td>392.21</td>\n",
       "      <td>378.17</td>\n",
       "      <td>374.32</td>\n",
       "    </tr>\n",
       "    <tr>\n",
       "      <th>2501</th>\n",
       "      <td>389.10</td>\n",
       "      <td>400.28</td>\n",
       "      <td>404.60</td>\n",
       "      <td>383.68</td>\n",
       "      <td>392.21</td>\n",
       "      <td>378.17</td>\n",
       "      <td>374.32</td>\n",
       "      <td>361.62</td>\n",
       "    </tr>\n",
       "    <tr>\n",
       "      <th>2502</th>\n",
       "      <td>400.28</td>\n",
       "      <td>404.60</td>\n",
       "      <td>383.68</td>\n",
       "      <td>392.21</td>\n",
       "      <td>378.17</td>\n",
       "      <td>374.32</td>\n",
       "      <td>361.62</td>\n",
       "      <td>350.73</td>\n",
       "    </tr>\n",
       "    <tr>\n",
       "      <th>2503</th>\n",
       "      <td>404.60</td>\n",
       "      <td>383.68</td>\n",
       "      <td>392.21</td>\n",
       "      <td>378.17</td>\n",
       "      <td>374.32</td>\n",
       "      <td>361.62</td>\n",
       "      <td>350.73</td>\n",
       "      <td>328.50</td>\n",
       "    </tr>\n",
       "    <tr>\n",
       "      <th>2504</th>\n",
       "      <td>383.68</td>\n",
       "      <td>392.21</td>\n",
       "      <td>378.17</td>\n",
       "      <td>374.32</td>\n",
       "      <td>361.62</td>\n",
       "      <td>350.73</td>\n",
       "      <td>328.50</td>\n",
       "      <td>336.51</td>\n",
       "    </tr>\n",
       "    <tr>\n",
       "      <th>2505</th>\n",
       "      <td>392.21</td>\n",
       "      <td>378.17</td>\n",
       "      <td>374.32</td>\n",
       "      <td>361.62</td>\n",
       "      <td>350.73</td>\n",
       "      <td>328.50</td>\n",
       "      <td>336.51</td>\n",
       "      <td>355.94</td>\n",
       "    </tr>\n",
       "    <tr>\n",
       "      <th>2506</th>\n",
       "      <td>378.17</td>\n",
       "      <td>374.32</td>\n",
       "      <td>361.62</td>\n",
       "      <td>350.73</td>\n",
       "      <td>328.50</td>\n",
       "      <td>336.51</td>\n",
       "      <td>355.94</td>\n",
       "      <td>355.84</td>\n",
       "    </tr>\n",
       "    <tr>\n",
       "      <th>2507</th>\n",
       "      <td>374.32</td>\n",
       "      <td>361.62</td>\n",
       "      <td>350.73</td>\n",
       "      <td>328.50</td>\n",
       "      <td>336.51</td>\n",
       "      <td>355.94</td>\n",
       "      <td>355.84</td>\n",
       "      <td>354.11</td>\n",
       "    </tr>\n",
       "  </tbody>\n",
       "</table>\n",
       "</div>"
      ],
      "text/plain": [
       "          x1      x2      x3      x4      x5      x6      x7  target\n",
       "2498  406.58  397.15  398.09  389.10  400.28  404.60  383.68  392.21\n",
       "2499  397.15  398.09  389.10  400.28  404.60  383.68  392.21  378.17\n",
       "2500  398.09  389.10  400.28  404.60  383.68  392.21  378.17  374.32\n",
       "2501  389.10  400.28  404.60  383.68  392.21  378.17  374.32  361.62\n",
       "2502  400.28  404.60  383.68  392.21  378.17  374.32  361.62  350.73\n",
       "2503  404.60  383.68  392.21  378.17  374.32  361.62  350.73  328.50\n",
       "2504  383.68  392.21  378.17  374.32  361.62  350.73  328.50  336.51\n",
       "2505  392.21  378.17  374.32  361.62  350.73  328.50  336.51  355.94\n",
       "2506  378.17  374.32  361.62  350.73  328.50  336.51  355.94  355.84\n",
       "2507  374.32  361.62  350.73  328.50  336.51  355.94  355.84  354.11"
      ]
     },
     "execution_count": 99,
     "metadata": {},
     "output_type": "execute_result"
    }
   ],
   "source": [
    "tesla_df = create_feature_target_dataframe(\n",
    "    df=df,\n",
    "    column='Close/Last',\n",
    "    window_size=7\n",
    ")\n",
    "tesla_df.tail(10)"
   ]
  },
  {
   "cell_type": "code",
   "execution_count": 100,
   "id": "8697f70f-1df0-4e67-afe3-996d8c340866",
   "metadata": {},
   "outputs": [
    {
     "data": {
      "text/plain": [
       "(2508, 8)"
      ]
     },
     "execution_count": 100,
     "metadata": {},
     "output_type": "execute_result"
    }
   ],
   "source": [
    "tesla_df.shape"
   ]
  },
  {
   "cell_type": "code",
   "execution_count": 101,
   "id": "e69c4052-3eb4-48d3-8d10-146704c6e64a",
   "metadata": {},
   "outputs": [],
   "source": [
    "x = tesla_df.drop('target',axis=1)\n",
    "y = tesla_df['target']"
   ]
  },
  {
   "cell_type": "markdown",
   "id": "a981f2e8-1bbc-45b7-9a60-dddcc36e1273",
   "metadata": {},
   "source": [
    "# Splits the data into training and testing sets:\n",
    "\n",
    "- **train_test_split(x, y, test_size=0.2)**: \n",
    "  - Splits the feature set `x` and target `y` into training (80%) and testing (20%) sets.\n",
    "  \n",
    "- **x_train, x_test, y_train, y_test**: \n",
    "  - Assigns the training and testing data for features (`x_train`, `x_test`) and target (`y_train`, `y_test`)."
   ]
  },
  {
   "cell_type": "markdown",
   "id": "08b3056d-71e6-445a-9384-b81144ab5b2b",
   "metadata": {},
   "source": [
    "## Tesla Stocks Prediction using LSTMs"
   ]
  },
  {
   "cell_type": "markdown",
   "id": "841fb023-36de-412c-9665-459113158bcc",
   "metadata": {},
   "source": [
    "### Import Libraries for LSTMs\n",
    "- **`numpy`**: For numerical operations and handling arrays.\n",
    "- **`pandas`**: For data manipulation and analysis (e.g., DataFrames).\n",
    "- **`tensorflow`**: A library for machine learning and deep learning.\n",
    "- **`tensorflow.keras`**: High-level API for building neural networks in TensorFlow.\n",
    "- **`sklearn.preprocessing.MinMaxScaler`**: Scales features to a specified range.\n",
    "- **`sklearn.model_selection.train_test_split`**: Splits data into training and testing sets."
   ]
  },
  {
   "cell_type": "code",
   "execution_count": 102,
   "id": "da8865d0-87c6-4391-b352-c4f3aefbabb3",
   "metadata": {},
   "outputs": [],
   "source": [
    "import numpy as np\n",
    "import pandas as pd\n",
    "import tensorflow as tf\n",
    "from tensorflow.keras.models import Sequential\n",
    "from tensorflow.keras.layers import LSTM, Dense\n",
    "from sklearn.preprocessing import MinMaxScaler\n",
    "from sklearn.model_selection import train_test_split\n",
    "\n",
    "# Generate example time-series data (replace with your dataset)\n",
    "x = np.array(x)\n",
    "\n",
    "X = x.reshape(x.shape[0], x.shape[1], 1)  \n",
    "\n",
    "# Split into train and test sets\n",
    "X_train, X_test, y_train, y_test = train_test_split(X, y, test_size=0.2, random_state=42, shuffle=False)\n"
   ]
  },
  {
   "cell_type": "code",
   "execution_count": 103,
   "id": "0d9970a3-6927-43e0-af49-1347879409b3",
   "metadata": {},
   "outputs": [
    {
     "data": {
      "text/plain": [
       "((2006, 7, 1), (502, 7, 1))"
      ]
     },
     "execution_count": 103,
     "metadata": {},
     "output_type": "execute_result"
    }
   ],
   "source": [
    "X_train.shape,X_test.shape"
   ]
  },
  {
   "cell_type": "markdown",
   "id": "7ba427e5-8e86-4c81-8285-21339a7f4358",
   "metadata": {},
   "source": [
    "# This code defines and builds an LSTM model for regression\n",
    "\n",
    "- **`LSTM(100, activation='relu', return_sequences=True)`**: Adds an LSTM layer with 100 units and ReLU activation. The `return_sequences=True` argument ensures the output is fed to the next LSTM layer.\n",
    "- **`Dropout(0.2)`**: Adds dropout with 20% rate to prevent overfitting.\n",
    "- **`LSTM(100, activation='relu')`**: Adds another LSTM layer with 100 units.\n",
    "- **`Dense(1, activation='linear')`**: Adds a dense layer with 1 output unit and a linear activation function for regression.\n",
    "- **`model.compile(optimizer='adam', loss='mse')`**: Compiles the model with the Adam optimizer and mean squared error (MSE) loss function.\n"
   ]
  },
  {
   "cell_type": "code",
   "execution_count": 104,
   "id": "c5493bc0-4d81-4169-ab8e-16061b2fb6a8",
   "metadata": {},
   "outputs": [
    {
     "name": "stderr",
     "output_type": "stream",
     "text": [
      "/home/junaid-ul-hassan/anaconda3/lib/python3.11/site-packages/keras/src/layers/rnn/rnn.py:204: UserWarning:\n",
      "\n",
      "Do not pass an `input_shape`/`input_dim` argument to a layer. When using Sequential models, prefer using an `Input(shape)` object as the first layer in the model instead.\n",
      "\n"
     ]
    },
    {
     "data": {
      "text/html": [
       "<pre style=\"white-space:pre;overflow-x:auto;line-height:normal;font-family:Menlo,'DejaVu Sans Mono',consolas,'Courier New',monospace\"><span style=\"font-weight: bold\">Model: \"sequential_6\"</span>\n",
       "</pre>\n"
      ],
      "text/plain": [
       "\u001b[1mModel: \"sequential_6\"\u001b[0m\n"
      ]
     },
     "metadata": {},
     "output_type": "display_data"
    },
    {
     "data": {
      "text/html": [
       "<pre style=\"white-space:pre;overflow-x:auto;line-height:normal;font-family:Menlo,'DejaVu Sans Mono',consolas,'Courier New',monospace\">┏━━━━━━━━━━━━━━━━━━━━━━━━━━━━━━━━━┳━━━━━━━━━━━━━━━━━━━━━━━━┳━━━━━━━━━━━━━━━┓\n",
       "┃<span style=\"font-weight: bold\"> Layer (type)                    </span>┃<span style=\"font-weight: bold\"> Output Shape           </span>┃<span style=\"font-weight: bold\">       Param # </span>┃\n",
       "┡━━━━━━━━━━━━━━━━━━━━━━━━━━━━━━━━━╇━━━━━━━━━━━━━━━━━━━━━━━━╇━━━━━━━━━━━━━━━┩\n",
       "│ lstm_12 (<span style=\"color: #0087ff; text-decoration-color: #0087ff\">LSTM</span>)                  │ (<span style=\"color: #00d7ff; text-decoration-color: #00d7ff\">None</span>, <span style=\"color: #00af00; text-decoration-color: #00af00\">7</span>, <span style=\"color: #00af00; text-decoration-color: #00af00\">120</span>)         │        <span style=\"color: #00af00; text-decoration-color: #00af00\">58,560</span> │\n",
       "├─────────────────────────────────┼────────────────────────┼───────────────┤\n",
       "│ dropout_2 (<span style=\"color: #0087ff; text-decoration-color: #0087ff\">Dropout</span>)             │ (<span style=\"color: #00d7ff; text-decoration-color: #00d7ff\">None</span>, <span style=\"color: #00af00; text-decoration-color: #00af00\">7</span>, <span style=\"color: #00af00; text-decoration-color: #00af00\">120</span>)         │             <span style=\"color: #00af00; text-decoration-color: #00af00\">0</span> │\n",
       "├─────────────────────────────────┼────────────────────────┼───────────────┤\n",
       "│ batch_normalization_6           │ (<span style=\"color: #00d7ff; text-decoration-color: #00d7ff\">None</span>, <span style=\"color: #00af00; text-decoration-color: #00af00\">7</span>, <span style=\"color: #00af00; text-decoration-color: #00af00\">120</span>)         │           <span style=\"color: #00af00; text-decoration-color: #00af00\">480</span> │\n",
       "│ (<span style=\"color: #0087ff; text-decoration-color: #0087ff\">BatchNormalization</span>)            │                        │               │\n",
       "├─────────────────────────────────┼────────────────────────┼───────────────┤\n",
       "│ lstm_13 (<span style=\"color: #0087ff; text-decoration-color: #0087ff\">LSTM</span>)                  │ (<span style=\"color: #00d7ff; text-decoration-color: #00d7ff\">None</span>, <span style=\"color: #00af00; text-decoration-color: #00af00\">120</span>)            │       <span style=\"color: #00af00; text-decoration-color: #00af00\">115,680</span> │\n",
       "├─────────────────────────────────┼────────────────────────┼───────────────┤\n",
       "│ dense_6 (<span style=\"color: #0087ff; text-decoration-color: #0087ff\">Dense</span>)                 │ (<span style=\"color: #00d7ff; text-decoration-color: #00d7ff\">None</span>, <span style=\"color: #00af00; text-decoration-color: #00af00\">1</span>)              │           <span style=\"color: #00af00; text-decoration-color: #00af00\">121</span> │\n",
       "└─────────────────────────────────┴────────────────────────┴───────────────┘\n",
       "</pre>\n"
      ],
      "text/plain": [
       "┏━━━━━━━━━━━━━━━━━━━━━━━━━━━━━━━━━┳━━━━━━━━━━━━━━━━━━━━━━━━┳━━━━━━━━━━━━━━━┓\n",
       "┃\u001b[1m \u001b[0m\u001b[1mLayer (type)                   \u001b[0m\u001b[1m \u001b[0m┃\u001b[1m \u001b[0m\u001b[1mOutput Shape          \u001b[0m\u001b[1m \u001b[0m┃\u001b[1m \u001b[0m\u001b[1m      Param #\u001b[0m\u001b[1m \u001b[0m┃\n",
       "┡━━━━━━━━━━━━━━━━━━━━━━━━━━━━━━━━━╇━━━━━━━━━━━━━━━━━━━━━━━━╇━━━━━━━━━━━━━━━┩\n",
       "│ lstm_12 (\u001b[38;5;33mLSTM\u001b[0m)                  │ (\u001b[38;5;45mNone\u001b[0m, \u001b[38;5;34m7\u001b[0m, \u001b[38;5;34m120\u001b[0m)         │        \u001b[38;5;34m58,560\u001b[0m │\n",
       "├─────────────────────────────────┼────────────────────────┼───────────────┤\n",
       "│ dropout_2 (\u001b[38;5;33mDropout\u001b[0m)             │ (\u001b[38;5;45mNone\u001b[0m, \u001b[38;5;34m7\u001b[0m, \u001b[38;5;34m120\u001b[0m)         │             \u001b[38;5;34m0\u001b[0m │\n",
       "├─────────────────────────────────┼────────────────────────┼───────────────┤\n",
       "│ batch_normalization_6           │ (\u001b[38;5;45mNone\u001b[0m, \u001b[38;5;34m7\u001b[0m, \u001b[38;5;34m120\u001b[0m)         │           \u001b[38;5;34m480\u001b[0m │\n",
       "│ (\u001b[38;5;33mBatchNormalization\u001b[0m)            │                        │               │\n",
       "├─────────────────────────────────┼────────────────────────┼───────────────┤\n",
       "│ lstm_13 (\u001b[38;5;33mLSTM\u001b[0m)                  │ (\u001b[38;5;45mNone\u001b[0m, \u001b[38;5;34m120\u001b[0m)            │       \u001b[38;5;34m115,680\u001b[0m │\n",
       "├─────────────────────────────────┼────────────────────────┼───────────────┤\n",
       "│ dense_6 (\u001b[38;5;33mDense\u001b[0m)                 │ (\u001b[38;5;45mNone\u001b[0m, \u001b[38;5;34m1\u001b[0m)              │           \u001b[38;5;34m121\u001b[0m │\n",
       "└─────────────────────────────────┴────────────────────────┴───────────────┘\n"
      ]
     },
     "metadata": {},
     "output_type": "display_data"
    },
    {
     "data": {
      "text/html": [
       "<pre style=\"white-space:pre;overflow-x:auto;line-height:normal;font-family:Menlo,'DejaVu Sans Mono',consolas,'Courier New',monospace\"><span style=\"font-weight: bold\"> Total params: </span><span style=\"color: #00af00; text-decoration-color: #00af00\">174,841</span> (682.97 KB)\n",
       "</pre>\n"
      ],
      "text/plain": [
       "\u001b[1m Total params: \u001b[0m\u001b[38;5;34m174,841\u001b[0m (682.97 KB)\n"
      ]
     },
     "metadata": {},
     "output_type": "display_data"
    },
    {
     "data": {
      "text/html": [
       "<pre style=\"white-space:pre;overflow-x:auto;line-height:normal;font-family:Menlo,'DejaVu Sans Mono',consolas,'Courier New',monospace\"><span style=\"font-weight: bold\"> Trainable params: </span><span style=\"color: #00af00; text-decoration-color: #00af00\">174,601</span> (682.04 KB)\n",
       "</pre>\n"
      ],
      "text/plain": [
       "\u001b[1m Trainable params: \u001b[0m\u001b[38;5;34m174,601\u001b[0m (682.04 KB)\n"
      ]
     },
     "metadata": {},
     "output_type": "display_data"
    },
    {
     "data": {
      "text/html": [
       "<pre style=\"white-space:pre;overflow-x:auto;line-height:normal;font-family:Menlo,'DejaVu Sans Mono',consolas,'Courier New',monospace\"><span style=\"font-weight: bold\"> Non-trainable params: </span><span style=\"color: #00af00; text-decoration-color: #00af00\">240</span> (960.00 B)\n",
       "</pre>\n"
      ],
      "text/plain": [
       "\u001b[1m Non-trainable params: \u001b[0m\u001b[38;5;34m240\u001b[0m (960.00 B)\n"
      ]
     },
     "metadata": {},
     "output_type": "display_data"
    }
   ],
   "source": [
    "from tensorflow.keras.models import Sequential\n",
    "from tensorflow.keras.layers import LSTM, Dense, Bidirectional, Dropout,BatchNormalization\n",
    "\n",
    "# Define the LSTM model with multiple layers\n",
    "def build_lstm_model(input_shape):\n",
    "    model = Sequential([\n",
    "        (LSTM(120, activation='relu', return_sequences=True, input_shape=input_shape)),\n",
    "        Dropout(0.3),\n",
    "        BatchNormalization(),\n",
    "        (LSTM(120, activation='relu')),\n",
    "        Dense(1, activation='linear')  # Linear activation for regression tasks\n",
    "    ])\n",
    "    model.compile(optimizer='adam', loss='mse')\n",
    "    return model\n",
    "\n",
    "# Build the model\n",
    "input_shape = (X_train.shape[1], 1)\n",
    "model = build_lstm_model(input_shape)\n",
    "\n",
    "model.summary()"
   ]
  },
  {
   "cell_type": "markdown",
   "id": "5b5c4f41-eea5-454a-8333-a1b086e5934b",
   "metadata": {},
   "source": [
    "## Train LSTM model with **EarlyStopping**:\n",
    "\n",
    "- **`EarlyStopping`**: Stops training if the validation loss doesn't improve for a specified number of epochs (`patience=100`). It restores the model weights from the best epoch.\n",
    "- **`model.fit()`**: Trains the model with the **EarlyStopping** callback, using the training data (`X_train`, `y_train`) and validation data (`X_test`, `y_test`).\n",
    "- **`model.evaluate()`**: Evaluates the model on both the training and testing data and prints the loss values.\n",
    "\n",
    "The early stopping mechanism prevents overfitting by halting training early when the model's performance stops improving."
   ]
  },
  {
   "cell_type": "code",
   "execution_count": 107,
   "id": "288130fb-3754-4e6d-a8c3-633e52b09dda",
   "metadata": {},
   "outputs": [
    {
     "name": "stdout",
     "output_type": "stream",
     "text": [
      "Epoch 1/20\n",
      "\u001b[1m314/314\u001b[0m \u001b[32m━━━━━━━━━━━━━━━━━━━━\u001b[0m\u001b[37m\u001b[0m \u001b[1m5s\u001b[0m 16ms/step - loss: 620.4944 - val_loss: 425.1365\n",
      "Epoch 2/20\n",
      "\u001b[1m314/314\u001b[0m \u001b[32m━━━━━━━━━━━━━━━━━━━━\u001b[0m\u001b[37m\u001b[0m \u001b[1m5s\u001b[0m 15ms/step - loss: 464.4364 - val_loss: 485.8609\n",
      "Epoch 3/20\n",
      "\u001b[1m314/314\u001b[0m \u001b[32m━━━━━━━━━━━━━━━━━━━━\u001b[0m\u001b[37m\u001b[0m \u001b[1m4s\u001b[0m 13ms/step - loss: 654.1714 - val_loss: 486.2337\n",
      "Epoch 4/20\n",
      "\u001b[1m314/314\u001b[0m \u001b[32m━━━━━━━━━━━━━━━━━━━━\u001b[0m\u001b[37m\u001b[0m \u001b[1m4s\u001b[0m 14ms/step - loss: 399.4946 - val_loss: 714.3138\n",
      "Epoch 5/20\n",
      "\u001b[1m314/314\u001b[0m \u001b[32m━━━━━━━━━━━━━━━━━━━━\u001b[0m\u001b[37m\u001b[0m \u001b[1m4s\u001b[0m 14ms/step - loss: 526.1010 - val_loss: 728.5681\n",
      "Epoch 6/20\n",
      "\u001b[1m314/314\u001b[0m \u001b[32m━━━━━━━━━━━━━━━━━━━━\u001b[0m\u001b[37m\u001b[0m \u001b[1m4s\u001b[0m 14ms/step - loss: 425.5787 - val_loss: 1050.9851\n",
      "Epoch 7/20\n",
      "\u001b[1m314/314\u001b[0m \u001b[32m━━━━━━━━━━━━━━━━━━━━\u001b[0m\u001b[37m\u001b[0m \u001b[1m4s\u001b[0m 14ms/step - loss: 399.6309 - val_loss: 295.9250\n",
      "Epoch 8/20\n",
      "\u001b[1m314/314\u001b[0m \u001b[32m━━━━━━━━━━━━━━━━━━━━\u001b[0m\u001b[37m\u001b[0m \u001b[1m5s\u001b[0m 15ms/step - loss: 316.5843 - val_loss: 1414.1663\n",
      "Epoch 9/20\n",
      "\u001b[1m314/314\u001b[0m \u001b[32m━━━━━━━━━━━━━━━━━━━━\u001b[0m\u001b[37m\u001b[0m \u001b[1m4s\u001b[0m 14ms/step - loss: 405.1970 - val_loss: 812.4941\n",
      "Epoch 10/20\n",
      "\u001b[1m314/314\u001b[0m \u001b[32m━━━━━━━━━━━━━━━━━━━━\u001b[0m\u001b[37m\u001b[0m \u001b[1m5s\u001b[0m 15ms/step - loss: 341.6768 - val_loss: 523.1577\n",
      "Epoch 11/20\n",
      "\u001b[1m314/314\u001b[0m \u001b[32m━━━━━━━━━━━━━━━━━━━━\u001b[0m\u001b[37m\u001b[0m \u001b[1m4s\u001b[0m 14ms/step - loss: 311.3814 - val_loss: 314.2971\n",
      "Epoch 12/20\n",
      "\u001b[1m314/314\u001b[0m \u001b[32m━━━━━━━━━━━━━━━━━━━━\u001b[0m\u001b[37m\u001b[0m \u001b[1m6s\u001b[0m 19ms/step - loss: 215.0685 - val_loss: 488.0057\n",
      "Epoch 13/20\n",
      "\u001b[1m314/314\u001b[0m \u001b[32m━━━━━━━━━━━━━━━━━━━━\u001b[0m\u001b[37m\u001b[0m \u001b[1m4s\u001b[0m 14ms/step - loss: 286.3937 - val_loss: 921.6584\n",
      "Epoch 13: early stopping\n",
      "Restoring model weights from the end of the best epoch: 7.\n"
     ]
    }
   ],
   "source": [
    "from tensorflow.keras.callbacks import EarlyStopping\n",
    "\n",
    "# Define the EarlyStopping callback\n",
    "early_stopping = EarlyStopping(\n",
    "    monitor='val_loss',  # Monitor validation loss\n",
    "    patience=6,          # Stop training after 10 epochs with no improvement\n",
    "    restore_best_weights=True,  # Restore the model weights from the best epoch\n",
    "    mode='min',           # Mode 'min' means training will stop when the validation loss stops decreasing\n",
    "    verbose=1\n",
    ")\n",
    "\n",
    "# Train the model with EarlyStopping callback\n",
    "history = model.fit(\n",
    "    X, y,\n",
    "    epochs=20,\n",
    "    batch_size=8,\n",
    "    validation_data=(X_test, y_test),\n",
    "    verbose=1,\n",
    "    callbacks=[early_stopping]  # Include the EarlyStopping callback\n",
    ")"
   ]
  },
  {
   "cell_type": "markdown",
   "id": "3d942bf8-c0ab-4a98-9ea8-04fd23b8f85d",
   "metadata": {},
   "source": [
    "# Code evaluates the model's performance and visualizes the results\n",
    "\n",
    "- **`model.predict(X_test)`**: Makes predictions on the test set.\n",
    "- **`r2_score(y_test, predictions)`**: Calculates the R² score, measuring how well the model's predictions match the actual values.\n",
    "- **`plot_loss(history)`**: Visualizes:\n",
    "  - The training and validation loss over epochs.\n",
    "  - The R² score as a bar plot.\n",
    "- **`plt.tight_layout()`**: Adjusts the layout for better visualization. \n",
    "\n",
    "The plots help in understanding the model's performance during training and its predictive accuracy."
   ]
  },
  {
   "cell_type": "code",
   "execution_count": 108,
   "id": "0967a610-2992-4dd2-bd13-2907787fdd66",
   "metadata": {},
   "outputs": [
    {
     "name": "stdout",
     "output_type": "stream",
     "text": [
      "\u001b[1m16/16\u001b[0m \u001b[32m━━━━━━━━━━━━━━━━━━━━\u001b[0m\u001b[37m\u001b[0m \u001b[1m0s\u001b[0m 9ms/step\n",
      "R² Score: 0.9357\n"
     ]
    },
    {
     "data": {
      "image/png": "[encoded data removed]",
      "text/plain": [
       "<Figure size 1200x500 with 2 Axes>"
      ]
     },
     "metadata": {},
     "output_type": "display_data"
    }
   ],
   "source": [
    "# Make predictions\n",
    "predictions = model.predict(X_test)\n",
    "r2 = r2_score(y_test, predictions)\n",
    "print(f\"R² Score: {r2:.4f}\")\n",
    "\n",
    "# Visualization of Loss and R²\n",
    "def plot_loss(history):\n",
    "    plt.figure(figsize=(12, 5))\n",
    "\n",
    "    # Plot loss over epochs\n",
    "    plt.subplot(1, 2, 1)\n",
    "    plt.plot(history.history['loss'], label='Train Loss', color='black')\n",
    "    plt.plot(history.history['val_loss'], label='Validation Loss', color='red')\n",
    "    plt.title('Model Loss')\n",
    "    plt.xlabel('Epochs')\n",
    "    plt.ylabel('Loss')\n",
    "    plt.legend()\n",
    "    plt.grid()\n",
    "\n",
    "    # Plot R² score\n",
    "    plt.subplot(1, 2, 2)\n",
    "    plt.bar(['R² Score'], [r2], color='skyblue')\n",
    "    plt.ylim(0, 1)\n",
    "    plt.title('R² Score')\n",
    "    plt.ylabel('Score')\n",
    "    plt.grid(axis='y')\n",
    "\n",
    "    plt.tight_layout()\n",
    "    plt.show()\n",
    "\n",
    "# Call the plotting function\n",
    "plot_loss(history)\n"
   ]
  },
  {
   "cell_type": "markdown",
   "id": "8900997f-96ea-4c1d-977c-09f46f1f1bd8",
   "metadata": {},
   "source": [
    "## Calculates and visualizes the model's performance metrics\n",
    "\n",
    "- **Metrics**:\n",
    "  - **MSE (Mean Squared Error)**: Measures the average squared difference between actual and predicted values.\n",
    "  - **RMSE (Root Mean Squared Error)**: The square root of MSE, representing error in the same unit as the target.\n",
    "  - **R² Score**: Measures the proportion of variance explained by the model."
   ]
  },
  {
   "cell_type": "code",
   "execution_count": 109,
   "id": "c21dccb9-b237-4bb8-a5f3-69249d68920c",
   "metadata": {},
   "outputs": [
    {
     "data": {
      "image/png": "[encoded data removed]",
      "text/plain": [
       "<Figure size 600x400 with 1 Axes>"
      ]
     },
     "metadata": {},
     "output_type": "display_data"
    }
   ],
   "source": [
    "import seaborn as sns\n",
    "\n",
    "# Calculate metrics\n",
    "mse = np.mean((y_test - predictions.flatten()) ** 2)\n",
    "rmse = np.sqrt(mse)\n",
    "\n",
    "# Create a dictionary for the metrics\n",
    "metrics = {\n",
    "    'MSE': mse,\n",
    "    'RMSE': rmse,\n",
    "    'R² Score': r2\n",
    "}\n",
    "\n",
    "# Visualization: Heatmap of Metrics\n",
    "def plot_metrics_heatmap(metrics):\n",
    "    plt.figure(figsize=(6, 4))\n",
    "    sns.heatmap(\n",
    "        pd.DataFrame(metrics, index=[\"Value\"]).T,\n",
    "        annot=True, fmt=\".4f\", cmap=\"Reds\",\n",
    "        cbar=False, linewidths=0.5\n",
    "    )\n",
    "    plt.title(\"Model Performance Metrics\")\n",
    "    plt.xlabel(\"Metrics\")\n",
    "    plt.ylabel(\"\")\n",
    "    plt.show()\n",
    "\n",
    "# Call the heatmap plotting function\n",
    "plot_metrics_heatmap(metrics)\n"
   ]
  },
  {
   "cell_type": "code",
   "execution_count": 110,
   "id": "a7545bcc-a17a-4057-9cf0-86554302d792",
   "metadata": {},
   "outputs": [
    {
     "name": "stdout",
     "output_type": "stream",
     "text": [
      "\u001b[1m16/16\u001b[0m \u001b[32m━━━━━━━━━━━━━━━━━━━━\u001b[0m\u001b[37m\u001b[0m \u001b[1m0s\u001b[0m 8ms/step\n"
     ]
    },
    {
     "data": {
      "image/png": "[encoded data removed]",
      "text/plain": [
       "<Figure size 1200x600 with 1 Axes>"
      ]
     },
     "metadata": {},
     "output_type": "display_data"
    }
   ],
   "source": [
    "import matplotlib.pyplot as plt\n",
    "import numpy as np\n",
    "\n",
    "# Predict using the model\n",
    "y_pred = model.predict(X_test)\n",
    "\n",
    "# Ensure both actual and predicted are reshaped properly for plotting\n",
    "y_test_flat = np.ravel(y_test)  # Flatten y_test\n",
    "y_pred_flat = np.ravel(y_pred)  # Flatten y_pred\n",
    "\n",
    "# Plot actual vs predicted values\n",
    "plt.figure(figsize=(12, 6))\n",
    "plt.plot(y_test_flat, label='Actual Prices',color='black')\n",
    "plt.plot(y_pred_flat, label='Predicted Prices',color='red')\n",
    "plt.title(\"Tesla Actual vs Predicted Prices by LSTMs\")\n",
    "plt.xlabel(\"Dayes\")\n",
    "plt.ylabel(\"Stock Prices\")\n",
    "plt.legend()\n",
    "plt.grid(True)\n",
    "plt.show()\n"
   ]
  },
  {
   "cell_type": "code",
   "execution_count": 111,
   "id": "6a88a2fd-e5b4-4583-9000-7ad806141536",
   "metadata": {},
   "outputs": [
    {
     "data": {
      "text/plain": [
       "(2006, 7, 1)"
      ]
     },
     "execution_count": 111,
     "metadata": {},
     "output_type": "execute_result"
    }
   ],
   "source": [
    "X_train.shape"
   ]
  },
  {
   "cell_type": "code",
   "execution_count": 112,
   "id": "976e5548-1b25-4b47-944d-94f7f42c8f26",
   "metadata": {},
   "outputs": [
    {
     "name": "stderr",
     "output_type": "stream",
     "text": [
      "WARNING:absl:You are saving your model as an HDF5 file via `model.save()` or `keras.saving.save_model(model)`. This file format is considered legacy. We recommend using instead the native Keras format, e.g. `model.save('my_model.keras')` or `keras.saving.save_model(model, 'my_model.keras')`. \n"
     ]
    }
   ],
   "source": [
    "model.save('Tesla_model.h5')"
   ]
  },
  {
   "cell_type": "code",
   "execution_count": 113,
   "id": "7f10aeaf-ee97-48e4-91a9-ed6a261caf65",
   "metadata": {},
   "outputs": [
    {
     "data": {
      "text/html": [
       "<pre style=\"white-space:pre;overflow-x:auto;line-height:normal;font-family:Menlo,'DejaVu Sans Mono',consolas,'Courier New',monospace\"><span style=\"font-weight: bold\">Model: \"sequential_6\"</span>\n",
       "</pre>\n"
      ],
      "text/plain": [
       "\u001b[1mModel: \"sequential_6\"\u001b[0m\n"
      ]
     },
     "metadata": {},
     "output_type": "display_data"
    },
    {
     "data": {
      "text/html": [
       "<pre style=\"white-space:pre;overflow-x:auto;line-height:normal;font-family:Menlo,'DejaVu Sans Mono',consolas,'Courier New',monospace\">┏━━━━━━━━━━━━━━━━━━━━━━━━━━━━━━━━━┳━━━━━━━━━━━━━━━━━━━━━━━━┳━━━━━━━━━━━━━━━┓\n",
       "┃<span style=\"font-weight: bold\"> Layer (type)                    </span>┃<span style=\"font-weight: bold\"> Output Shape           </span>┃<span style=\"font-weight: bold\">       Param # </span>┃\n",
       "┡━━━━━━━━━━━━━━━━━━━━━━━━━━━━━━━━━╇━━━━━━━━━━━━━━━━━━━━━━━━╇━━━━━━━━━━━━━━━┩\n",
       "│ lstm_12 (<span style=\"color: #0087ff; text-decoration-color: #0087ff\">LSTM</span>)                  │ (<span style=\"color: #00d7ff; text-decoration-color: #00d7ff\">None</span>, <span style=\"color: #00af00; text-decoration-color: #00af00\">7</span>, <span style=\"color: #00af00; text-decoration-color: #00af00\">120</span>)         │        <span style=\"color: #00af00; text-decoration-color: #00af00\">58,560</span> │\n",
       "├─────────────────────────────────┼────────────────────────┼───────────────┤\n",
       "│ dropout_2 (<span style=\"color: #0087ff; text-decoration-color: #0087ff\">Dropout</span>)             │ (<span style=\"color: #00d7ff; text-decoration-color: #00d7ff\">None</span>, <span style=\"color: #00af00; text-decoration-color: #00af00\">7</span>, <span style=\"color: #00af00; text-decoration-color: #00af00\">120</span>)         │             <span style=\"color: #00af00; text-decoration-color: #00af00\">0</span> │\n",
       "├─────────────────────────────────┼────────────────────────┼───────────────┤\n",
       "│ batch_normalization_6           │ (<span style=\"color: #00d7ff; text-decoration-color: #00d7ff\">None</span>, <span style=\"color: #00af00; text-decoration-color: #00af00\">7</span>, <span style=\"color: #00af00; text-decoration-color: #00af00\">120</span>)         │           <span style=\"color: #00af00; text-decoration-color: #00af00\">480</span> │\n",
       "│ (<span style=\"color: #0087ff; text-decoration-color: #0087ff\">BatchNormalization</span>)            │                        │               │\n",
       "├─────────────────────────────────┼────────────────────────┼───────────────┤\n",
       "│ lstm_13 (<span style=\"color: #0087ff; text-decoration-color: #0087ff\">LSTM</span>)                  │ (<span style=\"color: #00d7ff; text-decoration-color: #00d7ff\">None</span>, <span style=\"color: #00af00; text-decoration-color: #00af00\">120</span>)            │       <span style=\"color: #00af00; text-decoration-color: #00af00\">115,680</span> │\n",
       "├─────────────────────────────────┼────────────────────────┼───────────────┤\n",
       "│ dense_6 (<span style=\"color: #0087ff; text-decoration-color: #0087ff\">Dense</span>)                 │ (<span style=\"color: #00d7ff; text-decoration-color: #00d7ff\">None</span>, <span style=\"color: #00af00; text-decoration-color: #00af00\">1</span>)              │           <span style=\"color: #00af00; text-decoration-color: #00af00\">121</span> │\n",
       "└─────────────────────────────────┴────────────────────────┴───────────────┘\n",
       "</pre>\n"
      ],
      "text/plain": [
       "┏━━━━━━━━━━━━━━━━━━━━━━━━━━━━━━━━━┳━━━━━━━━━━━━━━━━━━━━━━━━┳━━━━━━━━━━━━━━━┓\n",
       "┃\u001b[1m \u001b[0m\u001b[1mLayer (type)                   \u001b[0m\u001b[1m \u001b[0m┃\u001b[1m \u001b[0m\u001b[1mOutput Shape          \u001b[0m\u001b[1m \u001b[0m┃\u001b[1m \u001b[0m\u001b[1m      Param #\u001b[0m\u001b[1m \u001b[0m┃\n",
       "┡━━━━━━━━━━━━━━━━━━━━━━━━━━━━━━━━━╇━━━━━━━━━━━━━━━━━━━━━━━━╇━━━━━━━━━━━━━━━┩\n",
       "│ lstm_12 (\u001b[38;5;33mLSTM\u001b[0m)                  │ (\u001b[38;5;45mNone\u001b[0m, \u001b[38;5;34m7\u001b[0m, \u001b[38;5;34m120\u001b[0m)         │        \u001b[38;5;34m58,560\u001b[0m │\n",
       "├─────────────────────────────────┼────────────────────────┼───────────────┤\n",
       "│ dropout_2 (\u001b[38;5;33mDropout\u001b[0m)             │ (\u001b[38;5;45mNone\u001b[0m, \u001b[38;5;34m7\u001b[0m, \u001b[38;5;34m120\u001b[0m)         │             \u001b[38;5;34m0\u001b[0m │\n",
       "├─────────────────────────────────┼────────────────────────┼───────────────┤\n",
       "│ batch_normalization_6           │ (\u001b[38;5;45mNone\u001b[0m, \u001b[38;5;34m7\u001b[0m, \u001b[38;5;34m120\u001b[0m)         │           \u001b[38;5;34m480\u001b[0m │\n",
       "│ (\u001b[38;5;33mBatchNormalization\u001b[0m)            │                        │               │\n",
       "├─────────────────────────────────┼────────────────────────┼───────────────┤\n",
       "│ lstm_13 (\u001b[38;5;33mLSTM\u001b[0m)                  │ (\u001b[38;5;45mNone\u001b[0m, \u001b[38;5;34m120\u001b[0m)            │       \u001b[38;5;34m115,680\u001b[0m │\n",
       "├─────────────────────────────────┼────────────────────────┼───────────────┤\n",
       "│ dense_6 (\u001b[38;5;33mDense\u001b[0m)                 │ (\u001b[38;5;45mNone\u001b[0m, \u001b[38;5;34m1\u001b[0m)              │           \u001b[38;5;34m121\u001b[0m │\n",
       "└─────────────────────────────────┴────────────────────────┴───────────────┘\n"
      ]
     },
     "metadata": {},
     "output_type": "display_data"
    },
    {
     "data": {
      "text/html": [
       "<pre style=\"white-space:pre;overflow-x:auto;line-height:normal;font-family:Menlo,'DejaVu Sans Mono',consolas,'Courier New',monospace\"><span style=\"font-weight: bold\"> Total params: </span><span style=\"color: #00af00; text-decoration-color: #00af00\">174,841</span> (682.97 KB)\n",
       "</pre>\n"
      ],
      "text/plain": [
       "\u001b[1m Total params: \u001b[0m\u001b[38;5;34m174,841\u001b[0m (682.97 KB)\n"
      ]
     },
     "metadata": {},
     "output_type": "display_data"
    },
    {
     "data": {
      "text/html": [
       "<pre style=\"white-space:pre;overflow-x:auto;line-height:normal;font-family:Menlo,'DejaVu Sans Mono',consolas,'Courier New',monospace\"><span style=\"font-weight: bold\"> Trainable params: </span><span style=\"color: #00af00; text-decoration-color: #00af00\">174,601</span> (682.04 KB)\n",
       "</pre>\n"
      ],
      "text/plain": [
       "\u001b[1m Trainable params: \u001b[0m\u001b[38;5;34m174,601\u001b[0m (682.04 KB)\n"
      ]
     },
     "metadata": {},
     "output_type": "display_data"
    },
    {
     "data": {
      "text/html": [
       "<pre style=\"white-space:pre;overflow-x:auto;line-height:normal;font-family:Menlo,'DejaVu Sans Mono',consolas,'Courier New',monospace\"><span style=\"font-weight: bold\"> Non-trainable params: </span><span style=\"color: #00af00; text-decoration-color: #00af00\">240</span> (960.00 B)\n",
       "</pre>\n"
      ],
      "text/plain": [
       "\u001b[1m Non-trainable params: \u001b[0m\u001b[38;5;34m240\u001b[0m (960.00 B)\n"
      ]
     },
     "metadata": {},
     "output_type": "display_data"
    }
   ],
   "source": [
    "import tensorflow as tf\n",
    "\n",
    "# Load the model with the correct loss function\n",
    "model = tf.keras.models.load_model(\"Tesla_model.h5\", compile=False)  # Load without compilation\n",
    "model.compile(loss=tf.keras.losses.MeanSquaredError())  # Recompile with the correct loss function\n",
    "\n",
    "# Print model summary\n",
    "model.summary()\n"
   ]
  },
  {
   "cell_type": "code",
   "execution_count": 123,
   "id": "9fd1ba83-492c-4b74-98fb-1a2222203227",
   "metadata": {},
   "outputs": [
    {
     "data": {
      "text/plain": [
       "Date\n",
       "2025-02-19 00:00:00-05:00    360.559998\n",
       "Name: Close, dtype: float64"
      ]
     },
     "execution_count": 123,
     "metadata": {},
     "output_type": "execute_result"
    }
   ],
   "source": [
    "import yfinance as yf\n",
    "import numpy as np\n",
    "import matplotlib.pyplot as plt\n",
    "import seaborn as sns\n",
    "\n",
    "# Fetch Tesla stock data\n",
    "tesla = yf.Ticker(\"TSLA\")\n",
    "stock_values = tesla.history(period=\"1d\")[\"Close\"]\n",
    "stock_values"
   ]
  },
  {
   "cell_type": "code",
   "execution_count": 115,
   "id": "7fc4db21-da80-4583-a13e-5129867a70bb",
   "metadata": {},
   "outputs": [
    {
     "data": {
      "text/plain": [
       "DatetimeIndex(['2025-01-22 00:00:00-05:00', '2025-01-23 00:00:00-05:00',\n",
       "               '2025-01-24 00:00:00-05:00', '2025-01-27 00:00:00-05:00',\n",
       "               '2025-01-28 00:00:00-05:00', '2025-01-29 00:00:00-05:00',\n",
       "               '2025-01-30 00:00:00-05:00', '2025-01-31 00:00:00-05:00',\n",
       "               '2025-02-03 00:00:00-05:00', '2025-02-04 00:00:00-05:00',\n",
       "               '2025-02-05 00:00:00-05:00', '2025-02-06 00:00:00-05:00',\n",
       "               '2025-02-07 00:00:00-05:00', '2025-02-10 00:00:00-05:00',\n",
       "               '2025-02-11 00:00:00-05:00', '2025-02-12 00:00:00-05:00',\n",
       "               '2025-02-13 00:00:00-05:00', '2025-02-14 00:00:00-05:00',\n",
       "               '2025-02-18 00:00:00-05:00', '2025-02-19 00:00:00-05:00'],\n",
       "              dtype='datetime64[ns, America/New_York]', name='Date', freq=None)"
      ]
     },
     "execution_count": 115,
     "metadata": {},
     "output_type": "execute_result"
    }
   ],
   "source": [
    "stock_values.index"
   ]
  },
  {
   "cell_type": "markdown",
   "id": "6b3118cb-4525-45ed-83f9-130d706531a3",
   "metadata": {},
   "source": [
    "### Code Explaination\n",
    "\n",
    "This code **forecasts the next 7 stock prices** using a trained model:  \n",
    "\n",
    "- **Converts** `stock_values` into a list to allow appending new predictions.  \n",
    "- **Iterates 7 times** to predict future values.  \n",
    "- **Prepares input data** by taking the last **7 values** and reshaping it into the required format for the model.  \n",
    "- **Uses `model.predict(values)`** to generate a forecast.  \n",
    "- **Extracts the predicted price** (`next_value`) and appends it to `current_price`.  \n",
    "\n",
    "The purpose is to **extend stock price predictions for the next 7 days** using a machine learning model."
   ]
  },
  {
   "cell_type": "code",
   "execution_count": 116,
   "id": "9d90d5f4-dfc5-4b27-bf96-9da94c52a29a",
   "metadata": {},
   "outputs": [
    {
     "name": "stdout",
     "output_type": "stream",
     "text": [
      "\u001b[1m1/1\u001b[0m \u001b[32m━━━━━━━━━━━━━━━━━━━━\u001b[0m\u001b[37m\u001b[0m \u001b[1m1s\u001b[0m 615ms/step\n",
      "\u001b[1m1/1\u001b[0m \u001b[32m━━━━━━━━━━━━━━━━━━━━\u001b[0m\u001b[37m\u001b[0m \u001b[1m0s\u001b[0m 30ms/step\n",
      "\u001b[1m1/1\u001b[0m \u001b[32m━━━━━━━━━━━━━━━━━━━━\u001b[0m\u001b[37m\u001b[0m \u001b[1m0s\u001b[0m 27ms/step\n",
      "\u001b[1m1/1\u001b[0m \u001b[32m━━━━━━━━━━━━━━━━━━━━\u001b[0m\u001b[37m\u001b[0m \u001b[1m0s\u001b[0m 27ms/step\n",
      "\u001b[1m1/1\u001b[0m \u001b[32m━━━━━━━━━━━━━━━━━━━━\u001b[0m\u001b[37m\u001b[0m \u001b[1m0s\u001b[0m 28ms/step\n",
      "\u001b[1m1/1\u001b[0m \u001b[32m━━━━━━━━━━━━━━━━━━━━\u001b[0m\u001b[37m\u001b[0m \u001b[1m0s\u001b[0m 29ms/step\n",
      "\u001b[1m1/1\u001b[0m \u001b[32m━━━━━━━━━━━━━━━━━━━━\u001b[0m\u001b[37m\u001b[0m \u001b[1m0s\u001b[0m 26ms/step\n"
     ]
    }
   ],
   "source": [
    "current_price = list(stock_values)  # Ensure it's a list for appending\n",
    "# Forecast next 7 values\n",
    "for i in range(7):\n",
    "    values = np.array(current_price[-7:]).reshape(1, 7, 1)  # Take last 4 value\n",
    "    prediction = model.predict(values)\n",
    "    next_value = prediction[0][0]  # Extract scalar prediction\n",
    "    current_price.append(next_value)  # Append predicted value"
   ]
  },
  {
   "cell_type": "code",
   "execution_count": 117,
   "id": "c39e2a6e-c4b3-4315-9325-f617bfc6b0cc",
   "metadata": {},
   "outputs": [
    {
     "data": {
      "text/plain": [
       "[415.1099853515625,\n",
       " 412.3800048828125,\n",
       " 406.5799865722656,\n",
       " 397.1499938964844,\n",
       " 398.0899963378906,\n",
       " 389.1000061035156,\n",
       " 400.2799987792969,\n",
       " 404.6000061035156,\n",
       " 383.67999267578125,\n",
       " 392.2099914550781,\n",
       " 378.1700134277344,\n",
       " 374.32000732421875,\n",
       " 361.6199951171875,\n",
       " 350.7300109863281,\n",
       " 328.5,\n",
       " 336.510009765625,\n",
       " 355.94000244140625,\n",
       " 355.8399963378906,\n",
       " 354.1099853515625,\n",
       " 360.55999755859375,\n",
       " 360.39026,\n",
       " 358.60867,\n",
       " 365.01633,\n",
       " 371.50043,\n",
       " 372.55508,\n",
       " 373.95325,\n",
       " 376.31818]"
      ]
     },
     "execution_count": 117,
     "metadata": {},
     "output_type": "execute_result"
    }
   ],
   "source": [
    "current_price"
   ]
  },
  {
   "cell_type": "code",
   "execution_count": 118,
   "id": "8d12e075-45a1-4840-a763-d21c370f2da3",
   "metadata": {},
   "outputs": [
    {
     "data": {
      "text/plain": [
       "<Axes: >"
      ]
     },
     "execution_count": 118,
     "metadata": {},
     "output_type": "execute_result"
    },
    {
     "data": {
      "image/png": "[encoded data removed]",
      "text/plain": [
       "<Figure size 640x480 with 1 Axes>"
      ]
     },
     "metadata": {},
     "output_type": "display_data"
    }
   ],
   "source": [
    "sns.lineplot(current_price)"
   ]
  },
  {
   "cell_type": "code",
   "execution_count": 119,
   "id": "b160db4a-7331-48bb-b0c1-cc945e445bc8",
   "metadata": {},
   "outputs": [
    {
     "name": "stdout",
     "output_type": "stream",
     "text": [
      "All dates: DatetimeIndex(['2025-01-22 00:00:00-05:00', '2025-01-23 00:00:00-05:00',\n",
      "               '2025-01-24 00:00:00-05:00', '2025-01-27 00:00:00-05:00',\n",
      "               '2025-01-28 00:00:00-05:00', '2025-01-29 00:00:00-05:00',\n",
      "               '2025-01-30 00:00:00-05:00', '2025-01-31 00:00:00-05:00',\n",
      "               '2025-02-03 00:00:00-05:00', '2025-02-04 00:00:00-05:00',\n",
      "               '2025-02-05 00:00:00-05:00', '2025-02-06 00:00:00-05:00',\n",
      "               '2025-02-07 00:00:00-05:00', '2025-02-10 00:00:00-05:00',\n",
      "               '2025-02-11 00:00:00-05:00', '2025-02-12 00:00:00-05:00',\n",
      "               '2025-02-13 00:00:00-05:00', '2025-02-14 00:00:00-05:00',\n",
      "               '2025-02-18 00:00:00-05:00', '2025-02-19 00:00:00-05:00',\n",
      "               '2025-02-20 00:00:00-05:00', '2025-02-21 00:00:00-05:00',\n",
      "               '2025-02-22 00:00:00-05:00', '2025-02-23 00:00:00-05:00',\n",
      "               '2025-02-24 00:00:00-05:00', '2025-02-25 00:00:00-05:00',\n",
      "               '2025-02-26 00:00:00-05:00'],\n",
      "              dtype='datetime64[ns, America/New_York]', freq=None)\n"
     ]
    }
   ],
   "source": [
    "import pandas as pd\n",
    "dates = stock_values.index\n",
    "\n",
    "# Calculate the difference (gap) between the last two dates\n",
    "gap = dates[-1] - dates[-2]  \n",
    "\n",
    "# Generate the next 4 dates by adding the gap\n",
    "next_dates = [dates[-1] + gap * (i + 1) for i in range(7)]\n",
    "\n",
    "# Convert to DatetimeIndex\n",
    "next_dates = pd.DatetimeIndex(next_dates)\n",
    "\n",
    "# Combine with existing dates\n",
    "all_dates = dates.append(next_dates)\n",
    "\n",
    "print(\"All dates:\", all_dates)\n",
    "\n"
   ]
  },
  {
   "cell_type": "code",
   "execution_count": 120,
   "id": "ec4619a2-b829-4daf-8704-ec4165c1540f",
   "metadata": {},
   "outputs": [
    {
     "data": {
      "text/plain": [
       "27"
      ]
     },
     "execution_count": 120,
     "metadata": {},
     "output_type": "execute_result"
    }
   ],
   "source": [
    " len(all_dates)"
   ]
  },
  {
   "cell_type": "code",
   "execution_count": 121,
   "id": "89916722-aa1e-47fd-9866-191568fb38d1",
   "metadata": {},
   "outputs": [
    {
     "data": {
      "image/png": "[encoded data removed]",
      "text/plain": [
       "<Figure size 1000x500 with 1 Axes>"
      ]
     },
     "metadata": {},
     "output_type": "display_data"
    }
   ],
   "source": [
    "# Split real and predicted values\n",
    "real_dates = all_dates[:-7]\n",
    "predicted_dates = all_dates[-7:]\n",
    "\n",
    "real_prices = current_price[:-7]\n",
    "predicted_prices = current_price[-7:]\n",
    "\n",
    "# Plot historical data\n",
    "plt.figure(figsize=(10, 5))\n",
    "sns.lineplot(x=real_dates, y=real_prices, label=\"Historical Data\", color=\"black\")\n",
    "\n",
    "# **Connect last real point to first predicted point**\n",
    "transition_dates = [real_dates[-1], predicted_dates[0]]\n",
    "transition_prices = [real_prices[-1], predicted_prices[0]]\n",
    "plt.plot(transition_dates, transition_prices, color=\"tomato\", linestyle=\"dashed\")  # Transition Line\n",
    "\n",
    "# Plot predicted data in a different color\n",
    "sns.lineplot(x=predicted_dates, y=predicted_prices, label=\"Predicted Data\", color=\"tomato\", linestyle=\"dashed\")\n",
    "\n",
    "# Labels & title\n",
    "plt.xlabel(\"Date\")\n",
    "plt.ylabel(\"Price\")\n",
    "plt.title(\"Stock Price Forecast with Smooth Transition\")\n",
    "plt.xticks(rotation=45)\n",
    "plt.legend()\n",
    "plt.show()\n"
   ]
  },
  {
   "cell_type": "code",
   "execution_count": 122,
   "id": "9521ca64-a2c1-4627-90a0-536488bcd3be",
   "metadata": {},
   "outputs": [
    {
     "data": {
      "application/vnd.plotly.v1+json": {
       "config": {
        "plotlyServerURL": "https://plot.ly"
       },
       "data": [
        {
         "line": {
          "color": "black",
          "width": 2
         },
         "mode": "lines+markers",
         "name": "Historical Data",
         "type": "scatter",
         "x": [
          "2025-01-22T00:00:00-05:00",
          "2025-01-23T00:00:00-05:00",
          "2025-01-24T00:00:00-05:00",
          "2025-01-27T00:00:00-05:00",
          "2025-01-28T00:00:00-05:00",
          "2025-01-29T00:00:00-05:00",
          "2025-01-30T00:00:00-05:00",
          "2025-01-31T00:00:00-05:00",
          "2025-02-03T00:00:00-05:00",
          "2025-02-04T00:00:00-05:00",
          "2025-02-05T00:00:00-05:00",
          "2025-02-06T00:00:00-05:00",
          "2025-02-07T00:00:00-05:00",
          "2025-02-10T00:00:00-05:00",
          "2025-02-11T00:00:00-05:00",
          "2025-02-12T00:00:00-05:00",
          "2025-02-13T00:00:00-05:00",
          "2025-02-14T00:00:00-05:00",
          "2025-02-18T00:00:00-05:00",
          "2025-02-19T00:00:00-05:00"
         ],
         "y": [
          415.1099853515625,
          412.3800048828125,
          406.5799865722656,
          397.1499938964844,
          398.0899963378906,
          389.1000061035156,
          400.2799987792969,
          404.6000061035156,
          383.67999267578125,
          392.2099914550781,
          378.1700134277344,
          374.32000732421875,
          361.6199951171875,
          350.7300109863281,
          328.5,
          336.510009765625,
          355.94000244140625,
          355.8399963378906,
          354.1099853515625,
          360.55999755859375
         ]
        },
        {
         "line": {
          "color": "orange",
          "width": 2
         },
         "mode": "lines",
         "name": "Transition",
         "type": "scatter",
         "x": [
          "2025-02-19T00:00:00-05:00",
          "2025-02-20T00:00:00-05:00"
         ],
         "y": [
          360.55999755859375,
          360.3902587890625
         ]
        },
        {
         "line": {
          "color": "orange",
          "width": 2
         },
         "mode": "lines+markers",
         "name": "Predicted Data",
         "type": "scatter",
         "x": [
          "2025-02-20T00:00:00-05:00",
          "2025-02-21T00:00:00-05:00",
          "2025-02-22T00:00:00-05:00",
          "2025-02-23T00:00:00-05:00",
          "2025-02-24T00:00:00-05:00",
          "2025-02-25T00:00:00-05:00",
          "2025-02-26T00:00:00-05:00"
         ],
         "y": [
          360.3902587890625,
          358.6086730957031,
          365.0163269042969,
          371.50042724609375,
          372.5550842285156,
          373.9532470703125,
          376.31817626953125
         ]
        }
       ],
       "layout": {
        "autosize": true,
        "template": {
         "data": {
          "bar": [
           {
            "error_x": {
             "color": "#2a3f5f"
            },
            "error_y": {
             "color": "#2a3f5f"
            },
            "marker": {
             "line": {
              "color": "white",
              "width": 0.5
             },
             "pattern": {
              "fillmode": "overlay",
              "size": 10,
              "solidity": 0.2
             }
            },
            "type": "bar"
           }
          ],
          "barpolar": [
           {
            "marker": {
             "line": {
              "color": "white",
              "width": 0.5
             },
             "pattern": {
              "fillmode": "overlay",
              "size": 10,
              "solidity": 0.2
             }
            },
            "type": "barpolar"
           }
          ],
          "carpet": [
           {
            "aaxis": {
             "endlinecolor": "#2a3f5f",
             "gridcolor": "#C8D4E3",
             "linecolor": "#C8D4E3",
             "minorgridcolor": "#C8D4E3",
             "startlinecolor": "#2a3f5f"
            },
            "baxis": {
             "endlinecolor": "#2a3f5f",
             "gridcolor": "#C8D4E3",
             "linecolor": "#C8D4E3",
             "minorgridcolor": "#C8D4E3",
             "startlinecolor": "#2a3f5f"
            },
            "type": "carpet"
           }
          ],
          "choropleth": [
           {
            "colorbar": {
             "outlinewidth": 0,
             "ticks": ""
            },
            "type": "choropleth"
           }
          ],
          "contour": [
           {
            "colorbar": {
             "outlinewidth": 0,
             "ticks": ""
            },
            "colorscale": [
             [
              0,
              "#0d0887"
             ],
             [
              0.1111111111111111,
              "#46039f"
             ],
             [
              0.2222222222222222,
              "#7201a8"
             ],
             [
              0.3333333333333333,
              "#9c179e"
             ],
             [
              0.4444444444444444,
              "#bd3786"
             ],
             [
              0.5555555555555556,
              "#d8576b"
             ],
             [
              0.6666666666666666,
              "#ed7953"
             ],
             [
              0.7777777777777778,
              "#fb9f3a"
             ],
             [
              0.8888888888888888,
              "#fdca26"
             ],
             [
              1,
              "#f0f921"
             ]
            ],
            "type": "contour"
           }
          ],
          "contourcarpet": [
           {
            "colorbar": {
             "outlinewidth": 0,
             "ticks": ""
            },
            "type": "contourcarpet"
           }
          ],
          "heatmap": [
           {
            "colorbar": {
             "outlinewidth": 0,
             "ticks": ""
            },
            "colorscale": [
             [
              0,
              "#0d0887"
             ],
             [
              0.1111111111111111,
              "#46039f"
             ],
             [
              0.2222222222222222,
              "#7201a8"
             ],
             [
              0.3333333333333333,
              "#9c179e"
             ],
             [
              0.4444444444444444,
              "#bd3786"
             ],
             [
              0.5555555555555556,
              "#d8576b"
             ],
             [
              0.6666666666666666,
              "#ed7953"
             ],
             [
              0.7777777777777778,
              "#fb9f3a"
             ],
             [
              0.8888888888888888,
              "#fdca26"
             ],
             [
              1,
              "#f0f921"
             ]
            ],
            "type": "heatmap"
           }
          ],
          "heatmapgl": [
           {
            "colorbar": {
             "outlinewidth": 0,
             "ticks": ""
            },
            "colorscale": [
             [
              0,
              "#0d0887"
             ],
             [
              0.1111111111111111,
              "#46039f"
             ],
             [
              0.2222222222222222,
              "#7201a8"
             ],
             [
              0.3333333333333333,
              "#9c179e"
             ],
             [
              0.4444444444444444,
              "#bd3786"
             ],
             [
              0.5555555555555556,
              "#d8576b"
             ],
             [
              0.6666666666666666,
              "#ed7953"
             ],
             [
              0.7777777777777778,
              "#fb9f3a"
             ],
             [
              0.8888888888888888,
              "#fdca26"
             ],
             [
              1,
              "#f0f921"
             ]
            ],
            "type": "heatmapgl"
           }
          ],
          "histogram": [
           {
            "marker": {
             "pattern": {
              "fillmode": "overlay",
              "size": 10,
              "solidity": 0.2
             }
            },
            "type": "histogram"
           }
          ],
          "histogram2d": [
           {
            "colorbar": {
             "outlinewidth": 0,
             "ticks": ""
            },
            "colorscale": [
             [
              0,
              "#0d0887"
             ],
             [
              0.1111111111111111,
              "#46039f"
             ],
             [
              0.2222222222222222,
              "#7201a8"
             ],
             [
              0.3333333333333333,
              "#9c179e"
             ],
             [
              0.4444444444444444,
              "#bd3786"
             ],
             [
              0.5555555555555556,
              "#d8576b"
             ],
             [
              0.6666666666666666,
              "#ed7953"
             ],
             [
              0.7777777777777778,
              "#fb9f3a"
             ],
             [
              0.8888888888888888,
              "#fdca26"
             ],
             [
              1,
              "#f0f921"
             ]
            ],
            "type": "histogram2d"
           }
          ],
          "histogram2dcontour": [
           {
            "colorbar": {
             "outlinewidth": 0,
             "ticks": ""
            },
            "colorscale": [
             [
              0,
              "#0d0887"
             ],
             [
              0.1111111111111111,
              "#46039f"
             ],
             [
              0.2222222222222222,
              "#7201a8"
             ],
             [
              0.3333333333333333,
              "#9c179e"
             ],
             [
              0.4444444444444444,
              "#bd3786"
             ],
             [
              0.5555555555555556,
              "#d8576b"
             ],
             [
              0.6666666666666666,
              "#ed7953"
             ],
             [
              0.7777777777777778,
              "#fb9f3a"
             ],
             [
              0.8888888888888888,
              "#fdca26"
             ],
             [
              1,
              "#f0f921"
             ]
            ],
            "type": "histogram2dcontour"
           }
          ],
          "mesh3d": [
           {
            "colorbar": {
             "outlinewidth": 0,
             "ticks": ""
            },
            "type": "mesh3d"
           }
          ],
          "parcoords": [
           {
            "line": {
             "colorbar": {
              "outlinewidth": 0,
              "ticks": ""
             }
            },
            "type": "parcoords"
           }
          ],
          "pie": [
           {
            "automargin": true,
            "type": "pie"
           }
          ],
          "scatter": [
           {
            "fillpattern": {
             "fillmode": "overlay",
             "size": 10,
             "solidity": 0.2
            },
            "type": "scatter"
           }
          ],
          "scatter3d": [
           {
            "line": {
             "colorbar": {
              "outlinewidth": 0,
              "ticks": ""
             }
            },
            "marker": {
             "colorbar": {
              "outlinewidth": 0,
              "ticks": ""
             }
            },
            "type": "scatter3d"
           }
          ],
          "scattercarpet": [
           {
            "marker": {
             "colorbar": {
              "outlinewidth": 0,
              "ticks": ""
             }
            },
            "type": "scattercarpet"
           }
          ],
          "scattergeo": [
           {
            "marker": {
             "colorbar": {
              "outlinewidth": 0,
              "ticks": ""
             }
            },
            "type": "scattergeo"
           }
          ],
          "scattergl": [
           {
            "marker": {
             "colorbar": {
              "outlinewidth": 0,
              "ticks": ""
             }
            },
            "type": "scattergl"
           }
          ],
          "scattermapbox": [
           {
            "marker": {
             "colorbar": {
              "outlinewidth": 0,
              "ticks": ""
             }
            },
            "type": "scattermapbox"
           }
          ],
          "scatterpolar": [
           {
            "marker": {
             "colorbar": {
              "outlinewidth": 0,
              "ticks": ""
             }
            },
            "type": "scatterpolar"
           }
          ],
          "scatterpolargl": [
           {
            "marker": {
             "colorbar": {
              "outlinewidth": 0,
              "ticks": ""
             }
            },
            "type": "scatterpolargl"
           }
          ],
          "scatterternary": [
           {
            "marker": {
             "colorbar": {
              "outlinewidth": 0,
              "ticks": ""
             }
            },
            "type": "scatterternary"
           }
          ],
          "surface": [
           {
            "colorbar": {
             "outlinewidth": 0,
             "ticks": ""
            },
            "colorscale": [
             [
              0,
              "#0d0887"
             ],
             [
              0.1111111111111111,
              "#46039f"
             ],
             [
              0.2222222222222222,
              "#7201a8"
             ],
             [
              0.3333333333333333,
              "#9c179e"
             ],
             [
              0.4444444444444444,
              "#bd3786"
             ],
             [
              0.5555555555555556,
              "#d8576b"
             ],
             [
              0.6666666666666666,
              "#ed7953"
             ],
             [
              0.7777777777777778,
              "#fb9f3a"
             ],
             [
              0.8888888888888888,
              "#fdca26"
             ],
             [
              1,
              "#f0f921"
             ]
            ],
            "type": "surface"
           }
          ],
          "table": [
           {
            "cells": {
             "fill": {
              "color": "#EBF0F8"
             },
             "line": {
              "color": "white"
             }
            },
            "header": {
             "fill": {
              "color": "#C8D4E3"
             },
             "line": {
              "color": "white"
             }
            },
            "type": "table"
           }
          ]
         },
         "layout": {
          "annotationdefaults": {
           "arrowcolor": "#2a3f5f",
           "arrowhead": 0,
           "arrowwidth": 1
          },
          "autotypenumbers": "strict",
          "coloraxis": {
           "colorbar": {
            "outlinewidth": 0,
            "ticks": ""
           }
          },
          "colorscale": {
           "diverging": [
            [
             0,
             "#8e0152"
            ],
            [
             0.1,
             "#c51b7d"
            ],
            [
             0.2,
             "#de77ae"
            ],
            [
             0.3,
             "#f1b6da"
            ],
            [
             0.4,
             "#fde0ef"
            ],
            [
             0.5,
             "#f7f7f7"
            ],
            [
             0.6,
             "#e6f5d0"
            ],
            [
             0.7,
             "#b8e186"
            ],
            [
             0.8,
             "#7fbc41"
            ],
            [
             0.9,
             "#4d9221"
            ],
            [
             1,
             "#276419"
            ]
           ],
           "sequential": [
            [
             0,
             "#0d0887"
            ],
            [
             0.1111111111111111,
             "#46039f"
            ],
            [
             0.2222222222222222,
             "#7201a8"
            ],
            [
             0.3333333333333333,
             "#9c179e"
            ],
            [
             0.4444444444444444,
             "#bd3786"
            ],
            [
             0.5555555555555556,
             "#d8576b"
            ],
            [
             0.6666666666666666,
             "#ed7953"
            ],
            [
             0.7777777777777778,
             "#fb9f3a"
            ],
            [
             0.8888888888888888,
             "#fdca26"
            ],
            [
             1,
             "#f0f921"
            ]
           ],
           "sequentialminus": [
            [
             0,
             "#0d0887"
            ],
            [
             0.1111111111111111,
             "#46039f"
            ],
            [
             0.2222222222222222,
             "#7201a8"
            ],
            [
             0.3333333333333333,
             "#9c179e"
            ],
            [
             0.4444444444444444,
             "#bd3786"
            ],
            [
             0.5555555555555556,
             "#d8576b"
            ],
            [
             0.6666666666666666,
             "#ed7953"
            ],
            [
             0.7777777777777778,
             "#fb9f3a"
            ],
            [
             0.8888888888888888,
             "#fdca26"
            ],
            [
             1,
             "#f0f921"
            ]
           ]
          },
          "colorway": [
           "#636efa",
           "#EF553B",
           "#00cc96",
           "#ab63fa",
           "#FFA15A",
           "#19d3f3",
           "#FF6692",
           "#B6E880",
           "#FF97FF",
           "#FECB52"
          ],
          "font": {
           "color": "#2a3f5f"
          },
          "geo": {
           "bgcolor": "white",
           "lakecolor": "white",
           "landcolor": "white",
           "showlakes": true,
           "showland": true,
           "subunitcolor": "#C8D4E3"
          },
          "hoverlabel": {
           "align": "left"
          },
          "hovermode": "closest",
          "mapbox": {
           "style": "light"
          },
          "paper_bgcolor": "white",
          "plot_bgcolor": "white",
          "polar": {
           "angularaxis": {
            "gridcolor": "#EBF0F8",
            "linecolor": "#EBF0F8",
            "ticks": ""
           },
           "bgcolor": "white",
           "radialaxis": {
            "gridcolor": "#EBF0F8",
            "linecolor": "#EBF0F8",
            "ticks": ""
           }
          },
          "scene": {
           "xaxis": {
            "backgroundcolor": "white",
            "gridcolor": "#DFE8F3",
            "gridwidth": 2,
            "linecolor": "#EBF0F8",
            "showbackground": true,
            "ticks": "",
            "zerolinecolor": "#EBF0F8"
           },
           "yaxis": {
            "backgroundcolor": "white",
            "gridcolor": "#DFE8F3",
            "gridwidth": 2,
            "linecolor": "#EBF0F8",
            "showbackground": true,
            "ticks": "",
            "zerolinecolor": "#EBF0F8"
           },
           "zaxis": {
            "backgroundcolor": "white",
            "gridcolor": "#DFE8F3",
            "gridwidth": 2,
            "linecolor": "#EBF0F8",
            "showbackground": true,
            "ticks": "",
            "zerolinecolor": "#EBF0F8"
           }
          },
          "shapedefaults": {
           "line": {
            "color": "#2a3f5f"
           }
          },
          "ternary": {
           "aaxis": {
            "gridcolor": "#DFE8F3",
            "linecolor": "#A2B1C6",
            "ticks": ""
           },
           "baxis": {
            "gridcolor": "#DFE8F3",
            "linecolor": "#A2B1C6",
            "ticks": ""
           },
           "bgcolor": "white",
           "caxis": {
            "gridcolor": "#DFE8F3",
            "linecolor": "#A2B1C6",
            "ticks": ""
           }
          },
          "title": {
           "x": 0.05
          },
          "xaxis": {
           "automargin": true,
           "gridcolor": "#EBF0F8",
           "linecolor": "#EBF0F8",
           "ticks": "",
           "title": {
            "standoff": 15
           },
           "zerolinecolor": "#EBF0F8",
           "zerolinewidth": 2
          },
          "yaxis": {
           "automargin": true,
           "gridcolor": "#EBF0F8",
           "linecolor": "#EBF0F8",
           "ticks": "",
           "title": {
            "standoff": 15
           },
           "zerolinecolor": "#EBF0F8",
           "zerolinewidth": 2
          }
         }
        },
        "title": {
         "text": "Stock Price Forecast with Smooth Transition"
        },
        "xaxis": {
         "autorange": true,
         "range": [
          "2025-01-19 20:48:53.5399",
          "2025-02-28 03:11:06.4601"
         ],
         "tickangle": -45,
         "title": {
          "text": "Date"
         },
         "type": "date"
        },
        "yaxis": {
         "autorange": true,
         "range": [
          321.253280577872,
          422.3567047736905
         ],
         "title": {
          "text": "Price"
         },
         "type": "linear"
        }
       }
      },
      "image/png": "[encoded data removed]",
      "text/html": [
       "<div>                            <div id=\"cee89500-7c04-4d96-806b-0f371257afe6\" class=\"plotly-graph-div\" style=\"height:700px; width:100%;\"></div>            <script type=\"text/javascript\">                require([\"plotly\"], function(Plotly) {                    window.PLOTLYENV=window.PLOTLYENV || {};                                    if (document.getElementById(\"cee89500-7c04-4d96-806b-0f371257afe6\")) {                    Plotly.newPlot(                        \"cee89500-7c04-4d96-806b-0f371257afe6\",                        [{\"line\":{\"color\":\"black\",\"width\":2},\"mode\":\"lines+markers\",\"name\":\"Historical Data\",\"x\":[\"2025-01-22T00:00:00-05:00\",\"2025-01-23T00:00:00-05:00\",\"2025-01-24T00:00:00-05:00\",\"2025-01-27T00:00:00-05:00\",\"2025-01-28T00:00:00-05:00\",\"2025-01-29T00:00:00-05:00\",\"2025-01-30T00:00:00-05:00\",\"2025-01-31T00:00:00-05:00\",\"2025-02-03T00:00:00-05:00\",\"2025-02-04T00:00:00-05:00\",\"2025-02-05T00:00:00-05:00\",\"2025-02-06T00:00:00-05:00\",\"2025-02-07T00:00:00-05:00\",\"2025-02-10T00:00:00-05:00\",\"2025-02-11T00:00:00-05:00\",\"2025-02-12T00:00:00-05:00\",\"2025-02-13T00:00:00-05:00\",\"2025-02-14T00:00:00-05:00\",\"2025-02-18T00:00:00-05:00\",\"2025-02-19T00:00:00-05:00\"],\"y\":[415.1099853515625,412.3800048828125,406.5799865722656,397.1499938964844,398.0899963378906,389.1000061035156,400.2799987792969,404.6000061035156,383.67999267578125,392.2099914550781,378.1700134277344,374.32000732421875,361.6199951171875,350.7300109863281,328.5,336.510009765625,355.94000244140625,355.8399963378906,354.1099853515625,360.55999755859375],\"type\":\"scatter\"},{\"line\":{\"color\":\"orange\",\"width\":2},\"mode\":\"lines\",\"name\":\"Transition\",\"x\":[\"2025-02-19T00:00:00-05:00\",\"2025-02-20T00:00:00-05:00\"],\"y\":[360.55999755859375,360.3902587890625],\"type\":\"scatter\"},{\"line\":{\"color\":\"orange\",\"width\":2},\"mode\":\"lines+markers\",\"name\":\"Predicted Data\",\"x\":[\"2025-02-20T00:00:00-05:00\",\"2025-02-21T00:00:00-05:00\",\"2025-02-22T00:00:00-05:00\",\"2025-02-23T00:00:00-05:00\",\"2025-02-24T00:00:00-05:00\",\"2025-02-25T00:00:00-05:00\",\"2025-02-26T00:00:00-05:00\"],\"y\":[360.3902587890625,358.6086730957031,365.0163269042969,371.50042724609375,372.5550842285156,373.9532470703125,376.31817626953125],\"type\":\"scatter\"}],                        {\"template\":{\"data\":{\"barpolar\":[{\"marker\":{\"line\":{\"color\":\"white\",\"width\":0.5},\"pattern\":{\"fillmode\":\"overlay\",\"size\":10,\"solidity\":0.2}},\"type\":\"barpolar\"}],\"bar\":[{\"error_x\":{\"color\":\"#2a3f5f\"},\"error_y\":{\"color\":\"#2a3f5f\"},\"marker\":{\"line\":{\"color\":\"white\",\"width\":0.5},\"pattern\":{\"fillmode\":\"overlay\",\"size\":10,\"solidity\":0.2}},\"type\":\"bar\"}],\"carpet\":[{\"aaxis\":{\"endlinecolor\":\"#2a3f5f\",\"gridcolor\":\"#C8D4E3\",\"linecolor\":\"#C8D4E3\",\"minorgridcolor\":\"#C8D4E3\",\"startlinecolor\":\"#2a3f5f\"},\"baxis\":{\"endlinecolor\":\"#2a3f5f\",\"gridcolor\":\"#C8D4E3\",\"linecolor\":\"#C8D4E3\",\"minorgridcolor\":\"#C8D4E3\",\"startlinecolor\":\"#2a3f5f\"},\"type\":\"carpet\"}],\"choropleth\":[{\"colorbar\":{\"outlinewidth\":0,\"ticks\":\"\"},\"type\":\"choropleth\"}],\"contourcarpet\":[{\"colorbar\":{\"outlinewidth\":0,\"ticks\":\"\"},\"type\":\"contourcarpet\"}],\"contour\":[{\"colorbar\":{\"outlinewidth\":0,\"ticks\":\"\"},\"colorscale\":[[0.0,\"#0d0887\"],[0.1111111111111111,\"#46039f\"],[0.2222222222222222,\"#7201a8\"],[0.3333333333333333,\"#9c179e\"],[0.4444444444444444,\"#bd3786\"],[0.5555555555555556,\"#d8576b\"],[0.6666666666666666,\"#ed7953\"],[0.7777777777777778,\"#fb9f3a\"],[0.8888888888888888,\"#fdca26\"],[1.0,\"#f0f921\"]],\"type\":\"contour\"}],\"heatmapgl\":[{\"colorbar\":{\"outlinewidth\":0,\"ticks\":\"\"},\"colorscale\":[[0.0,\"#0d0887\"],[0.1111111111111111,\"#46039f\"],[0.2222222222222222,\"#7201a8\"],[0.3333333333333333,\"#9c179e\"],[0.4444444444444444,\"#bd3786\"],[0.5555555555555556,\"#d8576b\"],[0.6666666666666666,\"#ed7953\"],[0.7777777777777778,\"#fb9f3a\"],[0.8888888888888888,\"#fdca26\"],[1.0,\"#f0f921\"]],\"type\":\"heatmapgl\"}],\"heatmap\":[{\"colorbar\":{\"outlinewidth\":0,\"ticks\":\"\"},\"colorscale\":[[0.0,\"#0d0887\"],[0.1111111111111111,\"#46039f\"],[0.2222222222222222,\"#7201a8\"],[0.3333333333333333,\"#9c179e\"],[0.4444444444444444,\"#bd3786\"],[0.5555555555555556,\"#d8576b\"],[0.6666666666666666,\"#ed7953\"],[0.7777777777777778,\"#fb9f3a\"],[0.8888888888888888,\"#fdca26\"],[1.0,\"#f0f921\"]],\"type\":\"heatmap\"}],\"histogram2dcontour\":[{\"colorbar\":{\"outlinewidth\":0,\"ticks\":\"\"},\"colorscale\":[[0.0,\"#0d0887\"],[0.1111111111111111,\"#46039f\"],[0.2222222222222222,\"#7201a8\"],[0.3333333333333333,\"#9c179e\"],[0.4444444444444444,\"#bd3786\"],[0.5555555555555556,\"#d8576b\"],[0.6666666666666666,\"#ed7953\"],[0.7777777777777778,\"#fb9f3a\"],[0.8888888888888888,\"#fdca26\"],[1.0,\"#f0f921\"]],\"type\":\"histogram2dcontour\"}],\"histogram2d\":[{\"colorbar\":{\"outlinewidth\":0,\"ticks\":\"\"},\"colorscale\":[[0.0,\"#0d0887\"],[0.1111111111111111,\"#46039f\"],[0.2222222222222222,\"#7201a8\"],[0.3333333333333333,\"#9c179e\"],[0.4444444444444444,\"#bd3786\"],[0.5555555555555556,\"#d8576b\"],[0.6666666666666666,\"#ed7953\"],[0.7777777777777778,\"#fb9f3a\"],[0.8888888888888888,\"#fdca26\"],[1.0,\"#f0f921\"]],\"type\":\"histogram2d\"}],\"histogram\":[{\"marker\":{\"pattern\":{\"fillmode\":\"overlay\",\"size\":10,\"solidity\":0.2}},\"type\":\"histogram\"}],\"mesh3d\":[{\"colorbar\":{\"outlinewidth\":0,\"ticks\":\"\"},\"type\":\"mesh3d\"}],\"parcoords\":[{\"line\":{\"colorbar\":{\"outlinewidth\":0,\"ticks\":\"\"}},\"type\":\"parcoords\"}],\"pie\":[{\"automargin\":true,\"type\":\"pie\"}],\"scatter3d\":[{\"line\":{\"colorbar\":{\"outlinewidth\":0,\"ticks\":\"\"}},\"marker\":{\"colorbar\":{\"outlinewidth\":0,\"ticks\":\"\"}},\"type\":\"scatter3d\"}],\"scattercarpet\":[{\"marker\":{\"colorbar\":{\"outlinewidth\":0,\"ticks\":\"\"}},\"type\":\"scattercarpet\"}],\"scattergeo\":[{\"marker\":{\"colorbar\":{\"outlinewidth\":0,\"ticks\":\"\"}},\"type\":\"scattergeo\"}],\"scattergl\":[{\"marker\":{\"colorbar\":{\"outlinewidth\":0,\"ticks\":\"\"}},\"type\":\"scattergl\"}],\"scattermapbox\":[{\"marker\":{\"colorbar\":{\"outlinewidth\":0,\"ticks\":\"\"}},\"type\":\"scattermapbox\"}],\"scatterpolargl\":[{\"marker\":{\"colorbar\":{\"outlinewidth\":0,\"ticks\":\"\"}},\"type\":\"scatterpolargl\"}],\"scatterpolar\":[{\"marker\":{\"colorbar\":{\"outlinewidth\":0,\"ticks\":\"\"}},\"type\":\"scatterpolar\"}],\"scatter\":[{\"fillpattern\":{\"fillmode\":\"overlay\",\"size\":10,\"solidity\":0.2},\"type\":\"scatter\"}],\"scatterternary\":[{\"marker\":{\"colorbar\":{\"outlinewidth\":0,\"ticks\":\"\"}},\"type\":\"scatterternary\"}],\"surface\":[{\"colorbar\":{\"outlinewidth\":0,\"ticks\":\"\"},\"colorscale\":[[0.0,\"#0d0887\"],[0.1111111111111111,\"#46039f\"],[0.2222222222222222,\"#7201a8\"],[0.3333333333333333,\"#9c179e\"],[0.4444444444444444,\"#bd3786\"],[0.5555555555555556,\"#d8576b\"],[0.6666666666666666,\"#ed7953\"],[0.7777777777777778,\"#fb9f3a\"],[0.8888888888888888,\"#fdca26\"],[1.0,\"#f0f921\"]],\"type\":\"surface\"}],\"table\":[{\"cells\":{\"fill\":{\"color\":\"#EBF0F8\"},\"line\":{\"color\":\"white\"}},\"header\":{\"fill\":{\"color\":\"#C8D4E3\"},\"line\":{\"color\":\"white\"}},\"type\":\"table\"}]},\"layout\":{\"annotationdefaults\":{\"arrowcolor\":\"#2a3f5f\",\"arrowhead\":0,\"arrowwidth\":1},\"autotypenumbers\":\"strict\",\"coloraxis\":{\"colorbar\":{\"outlinewidth\":0,\"ticks\":\"\"}},\"colorscale\":{\"diverging\":[[0,\"#8e0152\"],[0.1,\"#c51b7d\"],[0.2,\"#de77ae\"],[0.3,\"#f1b6da\"],[0.4,\"#fde0ef\"],[0.5,\"#f7f7f7\"],[0.6,\"#e6f5d0\"],[0.7,\"#b8e186\"],[0.8,\"#7fbc41\"],[0.9,\"#4d9221\"],[1,\"#276419\"]],\"sequential\":[[0.0,\"#0d0887\"],[0.1111111111111111,\"#46039f\"],[0.2222222222222222,\"#7201a8\"],[0.3333333333333333,\"#9c179e\"],[0.4444444444444444,\"#bd3786\"],[0.5555555555555556,\"#d8576b\"],[0.6666666666666666,\"#ed7953\"],[0.7777777777777778,\"#fb9f3a\"],[0.8888888888888888,\"#fdca26\"],[1.0,\"#f0f921\"]],\"sequentialminus\":[[0.0,\"#0d0887\"],[0.1111111111111111,\"#46039f\"],[0.2222222222222222,\"#7201a8\"],[0.3333333333333333,\"#9c179e\"],[0.4444444444444444,\"#bd3786\"],[0.5555555555555556,\"#d8576b\"],[0.6666666666666666,\"#ed7953\"],[0.7777777777777778,\"#fb9f3a\"],[0.8888888888888888,\"#fdca26\"],[1.0,\"#f0f921\"]]},\"colorway\":[\"#636efa\",\"#EF553B\",\"#00cc96\",\"#ab63fa\",\"#FFA15A\",\"#19d3f3\",\"#FF6692\",\"#B6E880\",\"#FF97FF\",\"#FECB52\"],\"font\":{\"color\":\"#2a3f5f\"},\"geo\":{\"bgcolor\":\"white\",\"lakecolor\":\"white\",\"landcolor\":\"white\",\"showlakes\":true,\"showland\":true,\"subunitcolor\":\"#C8D4E3\"},\"hoverlabel\":{\"align\":\"left\"},\"hovermode\":\"closest\",\"mapbox\":{\"style\":\"light\"},\"paper_bgcolor\":\"white\",\"plot_bgcolor\":\"white\",\"polar\":{\"angularaxis\":{\"gridcolor\":\"#EBF0F8\",\"linecolor\":\"#EBF0F8\",\"ticks\":\"\"},\"bgcolor\":\"white\",\"radialaxis\":{\"gridcolor\":\"#EBF0F8\",\"linecolor\":\"#EBF0F8\",\"ticks\":\"\"}},\"scene\":{\"xaxis\":{\"backgroundcolor\":\"white\",\"gridcolor\":\"#DFE8F3\",\"gridwidth\":2,\"linecolor\":\"#EBF0F8\",\"showbackground\":true,\"ticks\":\"\",\"zerolinecolor\":\"#EBF0F8\"},\"yaxis\":{\"backgroundcolor\":\"white\",\"gridcolor\":\"#DFE8F3\",\"gridwidth\":2,\"linecolor\":\"#EBF0F8\",\"showbackground\":true,\"ticks\":\"\",\"zerolinecolor\":\"#EBF0F8\"},\"zaxis\":{\"backgroundcolor\":\"white\",\"gridcolor\":\"#DFE8F3\",\"gridwidth\":2,\"linecolor\":\"#EBF0F8\",\"showbackground\":true,\"ticks\":\"\",\"zerolinecolor\":\"#EBF0F8\"}},\"shapedefaults\":{\"line\":{\"color\":\"#2a3f5f\"}},\"ternary\":{\"aaxis\":{\"gridcolor\":\"#DFE8F3\",\"linecolor\":\"#A2B1C6\",\"ticks\":\"\"},\"baxis\":{\"gridcolor\":\"#DFE8F3\",\"linecolor\":\"#A2B1C6\",\"ticks\":\"\"},\"bgcolor\":\"white\",\"caxis\":{\"gridcolor\":\"#DFE8F3\",\"linecolor\":\"#A2B1C6\",\"ticks\":\"\"}},\"title\":{\"x\":0.05},\"xaxis\":{\"automargin\":true,\"gridcolor\":\"#EBF0F8\",\"linecolor\":\"#EBF0F8\",\"ticks\":\"\",\"title\":{\"standoff\":15},\"zerolinecolor\":\"#EBF0F8\",\"zerolinewidth\":2},\"yaxis\":{\"automargin\":true,\"gridcolor\":\"#EBF0F8\",\"linecolor\":\"#EBF0F8\",\"ticks\":\"\",\"title\":{\"standoff\":15},\"zerolinecolor\":\"#EBF0F8\",\"zerolinewidth\":2}}},\"xaxis\":{\"title\":{\"text\":\"Date\"},\"tickangle\":-45},\"title\":{\"text\":\"Stock Price Forecast with Smooth Transition\"},\"yaxis\":{\"title\":{\"text\":\"Price\"}},\"height\":700},                        {\"responsive\": true}                    ).then(function(){\n",
       "                            \n",
       "var gd = document.getElementById('cee89500-7c04-4d96-806b-0f371257afe6');\n",
       "var x = new MutationObserver(function (mutations, observer) {{\n",
       "        var display = window.getComputedStyle(gd).display;\n",
       "        if (!display || display === 'none') {{\n",
       "            console.log([gd, 'removed!']);\n",
       "            Plotly.purge(gd);\n",
       "            observer.disconnect();\n",
       "        }}\n",
       "}});\n",
       "\n",
       "// Listen for the removal of the full notebook cells\n",
       "var notebookContainer = gd.closest('#notebook-container');\n",
       "if (notebookContainer) {{\n",
       "    x.observe(notebookContainer, {childList: true});\n",
       "}}\n",
       "\n",
       "// Listen for the clearing of the current output cell\n",
       "var outputEl = gd.closest('.output');\n",
       "if (outputEl) {{\n",
       "    x.observe(outputEl, {childList: true});\n",
       "}}\n",
       "\n",
       "                        })                };                });            </script>        </div>"
      ]
     },
     "metadata": {},
     "output_type": "display_data"
    }
   ],
   "source": [
    "import pandas as pd\n",
    "import plotly.graph_objects as go\n",
    "\n",
    "\n",
    "# Split real and predicted values\n",
    "real_dates = all_dates[:-7]\n",
    "predicted_dates = all_dates[-7:]\n",
    "\n",
    "real_prices = current_price[:-7]\n",
    "predicted_prices = current_price[-7:]\n",
    "\n",
    "# Create the Plotly figure\n",
    "fig = go.Figure()\n",
    "\n",
    "# Add historical data\n",
    "fig.add_trace(go.Scatter(\n",
    "    x=real_dates, y=real_prices,\n",
    "    mode='lines+markers',\n",
    "    name='Historical Data',\n",
    "    line=dict(color='black', width=2)\n",
    "))\n",
    "\n",
    "# Add transition segment to connect last real point to first predicted point\n",
    "fig.add_trace(go.Scatter(\n",
    "    x=[real_dates[-1], predicted_dates[0]],\n",
    "    y=[real_prices[-1], predicted_prices[0]],\n",
    "    mode='lines',\n",
    "    name='Transition',\n",
    "    line=dict(color='orange', width=2)\n",
    "))\n",
    "\n",
    "# Add predicted data\n",
    "fig.add_trace(go.Scatter(\n",
    "    x=predicted_dates, y=predicted_prices,\n",
    "    mode='lines+markers',\n",
    "    name='Predicted Data',\n",
    "    line=dict(color='orange', width=2)\n",
    "))\n",
    "\n",
    "# Update layout\n",
    "fig.update_layout(\n",
    "    title=\"Stock Price Forecast with Smooth Transition\",\n",
    "    xaxis_title=\"Date\",\n",
    "    yaxis_title=\"Price\",\n",
    "    xaxis=dict(tickangle=-45),\n",
    "    template=\"plotly_white\",\n",
    "    height=700  # Increase height (default is 450)\n",
    "\n",
    ")\n",
    "\n",
    "# Show the interactive plot\n",
    "fig.show()\n"
   ]
  },
  {
   "cell_type": "code",
   "execution_count": null,
   "id": "d86e722d-5658-49fb-8667-c8fca3f2438a",
   "metadata": {},
   "outputs": [],
   "source": []
  }
 ],
 "metadata": {
  "kernelspec": {
   "display_name": "Python 3 (ipykernel)",
   "language": "python",
   "name": "python3"
  },
  "language_info": {
   "codemirror_mode": {
    "name": "ipython",
    "version": 3
   },
   "file_extension": ".py",
   "mimetype": "text/x-python",
   "name": "python",
   "nbconvert_exporter": "python",
   "pygments_lexer": "ipython3",
   "version": "3.11.7"
  }
 },
 "nbformat": 4,
 "nbformat_minor": 5
}
