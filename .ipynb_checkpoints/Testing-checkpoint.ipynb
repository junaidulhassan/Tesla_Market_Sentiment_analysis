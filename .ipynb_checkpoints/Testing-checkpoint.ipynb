{
 "cells": [
  {
   "cell_type": "code",
   "execution_count": 7,
   "id": "e2f84d81-2616-451d-9eb5-e746693defe5",
   "metadata": {},
   "outputs": [],
   "source": [
    "from llm import RAG_Model"
   ]
  },
  {
   "cell_type": "code",
   "execution_count": 8,
   "id": "4fdf5f08-b1f0-4557-91c8-b1b1a987a3aa",
   "metadata": {},
   "outputs": [],
   "source": [
    "model = RAG_Model()"
   ]
  },
  {
   "cell_type": "code",
   "execution_count": 9,
   "id": "b2cbccc0-c8e9-4a6d-ab37-166d7428b6e3",
   "metadata": {},
   "outputs": [],
   "source": [
    "# model.load_Database(source_folder='source_documents_/')"
   ]
  },
  {
   "cell_type": "code",
   "execution_count": 10,
   "id": "25774c2b-985c-47ef-a948-7c4efc30f4e7",
   "metadata": {},
   "outputs": [
    {
     "data": {
      "text/plain": [
       "True"
      ]
     },
     "execution_count": 10,
     "metadata": {},
     "output_type": "execute_result"
    }
   ],
   "source": [
    "model.Load_existing_data()"
   ]
  },
  {
   "cell_type": "code",
   "execution_count": 11,
   "id": "82bffb7a-c3cc-4a3a-966c-31af6457c2f4",
   "metadata": {},
   "outputs": [],
   "source": [
    "report = model.generateResponse(\"\"\" \n",
    "        Write a detailed, 400-word professional business report on the following topics.\n",
    "        Main Heading: Client Satisfaction and Service Improvement Report\n",
    "        \n",
    "        Here are the main topics of the report:\n",
    "        - Are our clients satisfied with our service? (Please explain using business data and avoid personal assumptions.)\n",
    "        - How likely is feedback from our clients about our services? (Please explain using business data and avoid personal assumptions.)\n",
    "        - Who are the clients that are not happy with our service, and why? (Provide the names of the clients, their company names, issues, and contact numbers. Please include at least 4 employees.)\n",
    "        - What can we do to improve our services? (Answer this question based on the given context and create a table to explain it).\n",
    "        - Conclusion\n",
    "        \n",
    "        \"\"\")"
   ]
  },
  {
   "cell_type": "code",
   "execution_count": 12,
   "id": "9f7eb3bb-6b32-4488-8ea1-19312eca94df",
   "metadata": {},
   "outputs": [
    {
     "name": "stdout",
     "output_type": "stream",
     "text": [
      "# Client Satisfaction and Service Improvement Report\n",
      "\n",
      "## Introduction\n",
      "This report aims to analyze client satisfaction levels, feedback likelihood, identify dissatisfied clients, and propose actionable improvements for Grand Forwarding Limited's services.\n",
      "\n",
      "## Are Our Clients Satisfied with Our Service?\n",
      "Recent feedback collected from client surveys indicates a mixed level of satisfaction. According to a survey conducted by IAG Cargo, which included responses from our clients, 70% rated their experience as satisfactory or above. However, 30% expressed dissatisfaction, primarily citing delays in communication and service delivery. This data suggests that while a majority are content, there is a significant portion of clients who feel their expectations are not being met.\n",
      "\n",
      "## How Likely is Feedback from Our Clients About Our Services?\n",
      "The likelihood of receiving feedback from clients appears to be moderate. The same survey indicated that only 40% of clients actively provide feedback after service interactions. This low engagement could be attributed to a lack of follow-up communication from our team, which may discourage clients from sharing their experiences. Encouraging a culture of feedback through regular check-ins could enhance this metric.\n",
      "\n",
      "## Who Are the Clients That Are Not Happy with Our Service?\n",
      "The following clients have reported dissatisfaction with our services:\n",
      "\n",
      "| Client Name          | Company Name             | Issues Reported                          | Contact Number     |\n",
      "|----------------------|--------------------------|-----------------------------------------|---------------------|\n",
      "| Gabrielle            | WCA Partners             | Delayed invoice processing              | +886 2 2571 8816    |\n",
      "| Razan Alfaifi        | FMD Procurement          | Lack of timely quotes                   | +966 13 8298 664    |\n",
      "| Dr. Isabel dos Santos | Personal Investments      | Poor communication regarding investments | +244 912 345 678    |\n",
      "| Jayram Nair          | IAG Cargo                | Inconsistent service quality            | +852 2378 8942      |\n",
      "\n",
      "These clients have highlighted issues such as delayed responses, lack of timely updates, and inconsistent service quality as primary concerns.\n",
      "\n",
      "## What Can We Do to Improve Our Services?\n",
      "To enhance client satisfaction, we propose the following strategies:\n",
      "\n",
      "| Improvement Area               | Action Plan                                          | Expected Outcome                     |\n",
      "|--------------------------------|-----------------------------------------------------|--------------------------------------|\n",
      "| Communication                  | Implement regular follow-ups post-service delivery   | Increased client engagement and trust |\n",
      "| Service Delivery Timeliness     | Streamline internal processes to reduce delays      | Improved service reliability          |\n",
      "| Feedback Mechanism             | Establish a structured feedback system               | Higher feedback rates and actionable insights |\n",
      "| Staff Training                 | Conduct training sessions focused on customer service| Enhanced service quality              |\n",
      "\n",
      "## Conclusion\n",
      "While a majority of our clients express satisfaction with Grand Forwarding Limited's services, there remains a notable percentage of dissatisfied clients. By addressing communication gaps, improving service delivery, and actively seeking feedback, we can enhance client satisfaction and foster long-term relationships. Implementing the proposed strategies will not only resolve current issues but also position us as a leader in client service excellence within the freight forwarding industry.\n"
     ]
    }
   ],
   "source": [
    "print(report)"
   ]
  },
  {
   "cell_type": "code",
   "execution_count": 8,
   "id": "9c3e1f65-f852-4298-adc6-de8a60b330a1",
   "metadata": {},
   "outputs": [],
   "source": [
    "import markdown\n",
    "import pdfkit\n",
    "import streamlit as st\n",
    "\n",
    "def markdown_to_html(markdown_text):\n",
    "    \"\"\"\n",
    "    Converts markdown text to HTML with custom styling.\n",
    "    \"\"\"\n",
    "    # Custom CSS for formatting\n",
    "    style = \"\"\"\n",
    "    <style>\n",
    "    h1, h2, h3 {\n",
    "        color: darkblue; /* Main heading color */\n",
    "    }\n",
    "    body {\n",
    "        margin-left: 50px;\n",
    "        margin-right: 50px;\n",
    "        margin-top: 50px;\n",
    "        margin-bottom: 50px;\n",
    "    }\n",
    "    table {\n",
    "        width: 100%;\n",
    "        border-collapse: collapse; /* Merge borders into single line */\n",
    "    }\n",
    "    table, th, td {\n",
    "        border: 1px solid black; /* Make table borders visible */\n",
    "    }\n",
    "    th {\n",
    "        background-color: 64a6ff; /* Column header background color */\n",
    "        font-weight: bold; /* Bold column headers */\n",
    "    }\n",
    "    td {\n",
    "        padding: 8px; /* Padding for table cells */\n",
    "    }\n",
    "</style>\n",
    "\n",
    "    \"\"\"\n",
    "    html = markdown.markdown(markdown_text , extensions=['markdown.extensions.tables'])\n",
    "    return f\"<html><head>{style}</head><body>{html}</body></html>\"\n",
    "\n",
    "def save_pdf(html_content, output_pdf_path):\n",
    "    \"\"\"\n",
    "    Converts HTML content to a PDF file using pdfkit.\n",
    "    \"\"\"\n",
    "    pdfkit.from_string(html_content, output_pdf_path)\n",
    "\n",
    "def convert_markdown_string_to_pdf(markdown_content, output_pdf_file):\n",
    "    \"\"\"\n",
    "    Convert a markdown string to a PDF report with custom styling.\n",
    "    \"\"\"\n",
    "    # Convert markdown to HTML with styling\n",
    "    html_content = markdown_to_html(markdown_content)\n",
    "    print(html_content)\n",
    "\n",
    "    # Save as PDF\n",
    "    save_pdf(html_content, output_pdf_file)\n",
    "    print(f\"PDF report saved as {output_pdf_file}\")\n"
   ]
  },
  {
   "cell_type": "code",
   "execution_count": 17,
   "id": "0e92054e-0309-4424-b057-6665b7c2246c",
   "metadata": {},
   "outputs": [
    {
     "name": "stdout",
     "output_type": "stream",
     "text": [
      "<html><head>\n",
      "    <style>\n",
      "    h1, h2, h3 {\n",
      "        color: darkblue; /* Main heading color */\n",
      "    }\n",
      "    body {\n",
      "        margin-left: 50px;\n",
      "        margin-right: 50px;\n",
      "        margin-top: 50px;\n",
      "        margin-bottom: 50px;\n",
      "    }\n",
      "    table {\n",
      "        width: 100%;\n",
      "        border-collapse: collapse; /* Merge borders into single line */\n",
      "    }\n",
      "    table, th, td {\n",
      "        border: 1px solid black; /* Make table borders visible */\n",
      "    }\n",
      "    th {\n",
      "        background-color: 64a6ff; /* Column header background color */\n",
      "        font-weight: bold; /* Bold column headers */\n",
      "    }\n",
      "    td {\n",
      "        padding: 8px; /* Padding for table cells */\n",
      "    }\n",
      "</style>\n",
      "\n",
      "    </head><body><h3>Client Satisfaction and Service Improvement Report</h3>\n",
      "<h4>1. Are Our Clients Satisfied with Our Service?</h4>\n",
      "<p>Recent feedback from clients indicates a mixed level of satisfaction with our services. For instance, Razan Alfaifi from FMD Procurement Department has expressed concerns regarding delayed responses and the need for clearer pricing structures. Similarly, Mr. Pisal Thintate from Bhavika International Co., Ltd. acknowledged the quality of our quotes but raised issues about competitive pricing. This feedback suggests that while some clients appreciate our offerings, there are significant areas that require improvement to enhance overall satisfaction.</p>\n",
      "<h4>2. How Likely Are Our Clients to Recommend Us?</h4>\n",
      "<p>The likelihood of clients recommending our services is assessed through a survey conducted by IAG Cargo, where clients rate their likelihood on a scale of 0-10. Scores closer to 10 indicate high satisfaction, while scores below 5 suggest dissatisfaction. Feedback from clients like Mr. Pisal indicates that while they value our service, pricing competitiveness is a critical factor influencing their willingness to recommend us to others.</p>\n",
      "<h4>3. Clients Who Are Not Happy with Our Service</h4>\n",
      "<p>Several clients have reported dissatisfaction due to various issues. Below are the details:</p>\n",
      "<table>\n",
      "<thead>\n",
      "<tr>\n",
      "<th>Client Name</th>\n",
      "<th>Company Name</th>\n",
      "<th>Issue</th>\n",
      "<th>Contact No.</th>\n",
      "</tr>\n",
      "</thead>\n",
      "<tbody>\n",
      "<tr>\n",
      "<td>Razan Alfaifi</td>\n",
      "<td>FMD Procurement Department</td>\n",
      "<td>Delayed responses for quotes</td>\n",
      "<td>+966 13 8298 664</td>\n",
      "</tr>\n",
      "<tr>\n",
      "<td>Bhagat Singh</td>\n",
      "<td>Concept Clothing Pvt Ltd</td>\n",
      "<td>Delays in cargo readiness and carting</td>\n",
      "<td>bhagat@conceptclothing.co.in</td>\n",
      "</tr>\n",
      "<tr>\n",
      "<td>Priyanka Jadhav</td>\n",
      "<td>Grace Worldwide Movers Pvt. Ltd.</td>\n",
      "<td>Congestion at ports causing delays</td>\n",
      "<td>+91-9820128660</td>\n",
      "</tr>\n",
      "<tr>\n",
      "<td>Jim Price</td>\n",
      "<td>Private Investors Group</td>\n",
      "<td>Lack of project financing options</td>\n",
      "<td>Not provided</td>\n",
      "</tr>\n",
      "</tbody>\n",
      "</table>\n",
      "<h4>4. What Can We Do to Improve Our Services?</h4>\n",
      "<p>To enhance client satisfaction, we can implement the following strategies:</p>\n",
      "<table>\n",
      "<thead>\n",
      "<tr>\n",
      "<th>Improvement Area</th>\n",
      "<th>Action Plan</th>\n",
      "</tr>\n",
      "</thead>\n",
      "<tbody>\n",
      "<tr>\n",
      "<td>Timeliness of Responses</td>\n",
      "<td>Establish a dedicated customer service team to ensure prompt replies to inquiries.</td>\n",
      "</tr>\n",
      "<tr>\n",
      "<td>Pricing Transparency</td>\n",
      "<td>Provide clear and competitive pricing structures to avoid confusion and dissatisfaction.</td>\n",
      "</tr>\n",
      "<tr>\n",
      "<td>Regular Feedback Surveys</td>\n",
      "<td>Conduct regular surveys to gauge customer satisfaction and proactively address concerns.</td>\n",
      "</tr>\n",
      "<tr>\n",
      "<td>Training for Staff</td>\n",
      "<td>Invest in training programs for staff to improve communication and service delivery.</td>\n",
      "</tr>\n",
      "</tbody>\n",
      "</table>\n",
      "<h4>5. Conclusion</h4>\n",
      "<p>In conclusion, while there are positive aspects of our service, significant areas for improvement have been identified. Addressing client concerns regarding response times and pricing transparency is crucial for enhancing satisfaction. By implementing the suggested strategies, we can foster stronger client relationships, improve our service offerings, and ultimately drive business growth.</p></body></html>\n",
      "PDF report saved as business_report.pdf\n"
     ]
    }
   ],
   "source": [
    "output_pdf_file = 'business_report.pdf'  # Path where the PDF should be saved\n",
    "\n",
    "convert_markdown_string_to_pdf(report, output_pdf_file)"
   ]
  },
  {
   "cell_type": "code",
   "execution_count": 3,
   "id": "23a60531-7ff6-4d14-96e2-70a0ab60f3e2",
   "metadata": {},
   "outputs": [],
   "source": [
    "from langchain.vectorstores import FAISS\n",
    "from langchain_openai.embeddings import OpenAIEmbeddings\n",
    "import os\n",
    "import openai"
   ]
  },
  {
   "cell_type": "code",
   "execution_count": 4,
   "id": "6be955cf-4e51-488d-9f4c-9c3e1fa630d8",
   "metadata": {},
   "outputs": [],
   "source": [
    "os.environ['OPENAI_API_KEY'] = 'sk-GvrVp3nTelmqdMl1mkSnux9EMO8hC9LDAn-D2M22ehT3BlbkFJtuv_OR1BgetnGLJ7varcBAO4sCo2cE5N4RR9snaNMA'\n",
    "openai.api_key =  os.getenv('OPENAI_API_KEY')"
   ]
  },
  {
   "cell_type": "code",
   "execution_count": 5,
   "id": "360c7e5d-f808-4c9f-8658-657fbc5ed858",
   "metadata": {},
   "outputs": [],
   "source": [
    "embeddings = OpenAIEmbeddings()"
   ]
  },
  {
   "cell_type": "code",
   "execution_count": 10,
   "id": "8ad9c35b-99b0-4485-95a1-c3540c42ecb3",
   "metadata": {},
   "outputs": [
    {
     "ename": "KeyError",
     "evalue": "'__fields_set__'",
     "output_type": "error",
     "traceback": [
      "\u001b[0;31m---------------------------------------------------------------------------\u001b[0m",
      "\u001b[0;31mKeyError\u001b[0m                                  Traceback (most recent call last)",
      "Cell \u001b[0;32mIn[10], line 1\u001b[0m\n\u001b[0;32m----> 1\u001b[0m FAISS\u001b[38;5;241m.\u001b[39mload_local(folder_path\u001b[38;5;241m=\u001b[39m\u001b[38;5;124m'\u001b[39m\u001b[38;5;124mDatabase_/Open_embed/\u001b[39m\u001b[38;5;124m'\u001b[39m,embeddings\u001b[38;5;241m=\u001b[39membeddings,allow_dangerous_deserialization\u001b[38;5;241m=\u001b[39m\u001b[38;5;28;01mTrue\u001b[39;00m)\n",
      "File \u001b[0;32m~/anaconda3/lib/python3.11/site-packages/langchain_community/vectorstores/faiss.py:1210\u001b[0m, in \u001b[0;36mFAISS.load_local\u001b[0;34m(cls, folder_path, embeddings, index_name, allow_dangerous_deserialization, **kwargs)\u001b[0m\n\u001b[1;32m   1205\u001b[0m \u001b[38;5;66;03m# load docstore and index_to_docstore_id\u001b[39;00m\n\u001b[1;32m   1206\u001b[0m \u001b[38;5;28;01mwith\u001b[39;00m \u001b[38;5;28mopen\u001b[39m(path \u001b[38;5;241m/\u001b[39m \u001b[38;5;124mf\u001b[39m\u001b[38;5;124m\"\u001b[39m\u001b[38;5;132;01m{\u001b[39;00mindex_name\u001b[38;5;132;01m}\u001b[39;00m\u001b[38;5;124m.pkl\u001b[39m\u001b[38;5;124m\"\u001b[39m, \u001b[38;5;124m\"\u001b[39m\u001b[38;5;124mrb\u001b[39m\u001b[38;5;124m\"\u001b[39m) \u001b[38;5;28;01mas\u001b[39;00m f:\n\u001b[1;32m   1207\u001b[0m     (\n\u001b[1;32m   1208\u001b[0m         docstore,\n\u001b[1;32m   1209\u001b[0m         index_to_docstore_id,\n\u001b[0;32m-> 1210\u001b[0m     ) \u001b[38;5;241m=\u001b[39m pickle\u001b[38;5;241m.\u001b[39mload(  \u001b[38;5;66;03m# ignore[pickle]: explicit-opt-in\u001b[39;00m\n\u001b[1;32m   1211\u001b[0m         f\n\u001b[1;32m   1212\u001b[0m     )\n\u001b[1;32m   1214\u001b[0m \u001b[38;5;28;01mreturn\u001b[39;00m \u001b[38;5;28mcls\u001b[39m(embeddings, index, docstore, index_to_docstore_id, \u001b[38;5;241m*\u001b[39m\u001b[38;5;241m*\u001b[39mkwargs)\n",
      "File \u001b[0;32m~/anaconda3/lib/python3.11/site-packages/pydantic/v1/main.py:417\u001b[0m, in \u001b[0;36mBaseModel.__setstate__\u001b[0;34m(self, state)\u001b[0m\n\u001b[1;32m    415\u001b[0m \u001b[38;5;28;01mdef\u001b[39;00m \u001b[38;5;21m__setstate__\u001b[39m(\u001b[38;5;28mself\u001b[39m, state: \u001b[38;5;124m'\u001b[39m\u001b[38;5;124mDictAny\u001b[39m\u001b[38;5;124m'\u001b[39m) \u001b[38;5;241m-\u001b[39m\u001b[38;5;241m>\u001b[39m \u001b[38;5;28;01mNone\u001b[39;00m:\n\u001b[1;32m    416\u001b[0m     object_setattr(\u001b[38;5;28mself\u001b[39m, \u001b[38;5;124m'\u001b[39m\u001b[38;5;124m__dict__\u001b[39m\u001b[38;5;124m'\u001b[39m, state[\u001b[38;5;124m'\u001b[39m\u001b[38;5;124m__dict__\u001b[39m\u001b[38;5;124m'\u001b[39m])\n\u001b[0;32m--> 417\u001b[0m     object_setattr(\u001b[38;5;28mself\u001b[39m, \u001b[38;5;124m'\u001b[39m\u001b[38;5;124m__fields_set__\u001b[39m\u001b[38;5;124m'\u001b[39m, state[\u001b[38;5;124m'\u001b[39m\u001b[38;5;124m__fields_set__\u001b[39m\u001b[38;5;124m'\u001b[39m])\n\u001b[1;32m    418\u001b[0m     \u001b[38;5;28;01mfor\u001b[39;00m name, value \u001b[38;5;129;01min\u001b[39;00m state\u001b[38;5;241m.\u001b[39mget(\u001b[38;5;124m'\u001b[39m\u001b[38;5;124m__private_attribute_values__\u001b[39m\u001b[38;5;124m'\u001b[39m, {})\u001b[38;5;241m.\u001b[39mitems():\n\u001b[1;32m    419\u001b[0m         object_setattr(\u001b[38;5;28mself\u001b[39m, name, value)\n",
      "\u001b[0;31mKeyError\u001b[0m: '__fields_set__'"
     ]
    }
   ],
   "source": [
    "FAISS.load_local(folder_path='Database/Open_embed/',embeddings=embeddings,allow_dangerous_deserialization=True)"
   ]
  },
  {
   "cell_type": "code",
   "execution_count": 1,
   "id": "6495066f-0b97-4662-8c66-d4e0cb255b3a",
   "metadata": {},
   "outputs": [],
   "source": [
    "import markdown\n",
    "import pdfkit\n",
    "import streamlit as st\n",
    "from llm import RAG_Model\n",
    "\n",
    "class ReportGenerator:\n",
    "    def __init__(self):\n",
    "        \"\"\"\n",
    "        Initializes the RAG_Model and runs it once to generate a report.\n",
    "        \"\"\"\n",
    "        self.model = RAG_Model()\n",
    "        self.model.Load_existing_data()\n",
    "        self.report = self._generate_report()\n",
    "\n",
    "    def _generate_report(self):\n",
    "        \"\"\"\n",
    "        Generates the report using the RAG_Model.\n",
    "        \"\"\"\n",
    "        prompt = \"\"\" \n",
    "        Write a detailed, 500-word professional business report on the following topics.\n",
    "        Main Heading: Client Satisfaction and Service Improvement Report\n",
    "        Use each question as topic of report.\n",
    "        \n",
    "        \"\"\"\n",
    "        \n",
    "        report = self.model.generateResponse(\n",
    "            prompt=prompt\n",
    "        )\n",
    "        return report\n",
    "\n",
    "    def markdown_to_html(self, markdown_text):\n",
    "        \"\"\"\n",
    "        Converts markdown text to HTML with custom styling.\n",
    "        \"\"\"\n",
    "        # Custom CSS for formatting\n",
    "        style = \"\"\"\n",
    "        <style>\n",
    "        @import url('https://fonts.googleapis.com/css2?family=Roboto:wght@400;500;700&display=swap');\n",
    "        body {\n",
    "            font-family: 'Roboto', sans-serif; /* Use Roboto for body text */\n",
    "            margin-left: 50px;\n",
    "            margin-right: 50px;\n",
    "            margin-top: 50px;\n",
    "            margin-bottom: 50px;\n",
    "        }\n",
    "        h1, h2, h3 {\n",
    "             color: darkblue; /* Main heading color */\n",
    "             font-family: 'Roboto', sans-serif; /* Use Roboto for headings */\n",
    "        }\n",
    "        table {\n",
    "            width: 100%;\n",
    "            border-collapse: collaquestions = {\n",
    "        \"What is your name?\",\n",
    "        \"\"\n",
    "    }pse; /* Merge borders into single line */\n",
    "        }\n",
    "        table, th, td {\n",
    "             border: 1px solid black; /* Make table borders visible */\n",
    "        }\n",
    "        th {\n",
    "             background-color: #64a6ff; /* Column header background color */\n",
    "             font-weight: bold; /* Bold column headers */\n",
    "             font-family: 'Roboto', sans-serif; /* Use Roboto for table headers */\n",
    "        }\n",
    "        td {\n",
    "             padding: 8px; /* Padding for table cells */\n",
    "             font-family: 'Roboto', sans-serif; /* Use Roboto for table cells */\n",
    "        }\n",
    "        </style>\n",
    "        \"\"\"\n",
    "\n",
    "        html = markdown.markdown(\n",
    "            markdown_text, \n",
    "            extensions=['markdown.extensions.tables']\n",
    "        )\n",
    "        \n",
    "        return f\"<html><head>{style}</head><body>{html}</body></html>\"\n",
    "\n",
    "    def save_pdf(self, html_content, output_pdf_path):\n",
    "        \"\"\"\n",
    "        Converts HTML content to a PDF file using pdfkit.\n",
    "        \"\"\"\n",
    "        pdfkit.from_string(html_content, output_pdf_path)\n",
    "\n",
    "    def save_report_to_txt(self):\n",
    "        \"\"\"\n",
    "        Saves the generated report to a .txt file.\n",
    "        \"\"\"\n",
    "\n",
    "        file_path='Report.txt'\n",
    "        \n",
    "        with open(file_path, 'w') as file:\n",
    "            file.write(self.report)\n",
    "        print(f\"Report saved as {file_path}\")\n",
    "\n",
    "    def convert_markdown_string_to_pdf(self,output_pdf_file):\n",
    "        \"\"\"\n",
    "        Converts a markdown string to a PDF report with custom styling.\n",
    "        \"\"\"\n",
    "        # Convert markdown to HTML with styling\n",
    "        html_content = self.markdown_to_html(self.report)\n",
    "        # Save content into .text file\n",
    "        self.save_report_to_txt()\n",
    "\n",
    "        # Save as PDF\n",
    "        self.save_pdf(html_content, output_pdf_file)\n",
    "        print(f\"PDF report saved as {output_pdf_file}\")"
   ]
  },
  {
   "cell_type": "code",
   "execution_count": 1,
   "id": "e9d9845d-a395-474d-bd8b-78845ff80807",
   "metadata": {},
   "outputs": [
    {
     "ename": "NameError",
     "evalue": "name 'ReportGenerator' is not defined",
     "output_type": "error",
     "traceback": [
      "\u001b[0;31m---------------------------------------------------------------------------\u001b[0m",
      "\u001b[0;31mNameError\u001b[0m                                 Traceback (most recent call last)",
      "Cell \u001b[0;32mIn[1], line 2\u001b[0m\n\u001b[1;32m      1\u001b[0m \u001b[38;5;66;03m# Example usage:\u001b[39;00m\n\u001b[0;32m----> 2\u001b[0m report_gen \u001b[38;5;241m=\u001b[39m ReportGenerator()\n\u001b[1;32m      3\u001b[0m report_gen\u001b[38;5;241m.\u001b[39mconvert_markdown_string_to_pdf(\u001b[38;5;124m\"\u001b[39m\u001b[38;5;124moutput_report.pdf\u001b[39m\u001b[38;5;124m\"\u001b[39m)\n",
      "\u001b[0;31mNameError\u001b[0m: name 'ReportGenerator' is not defined"
     ]
    }
   ],
   "source": [
    "# Example usage:\n",
    "report_gen = ReportGenerator()\n",
    "report_gen.convert_markdown_string_to_pdf(\"output_report.pdf\")\n"
   ]
  },
  {
   "cell_type": "code",
   "execution_count": 1,
   "id": "6d2de4a3-d45d-4849-ab80-5eaa633b1145",
   "metadata": {},
   "outputs": [],
   "source": [
    "from Report import ReportGenerator"
   ]
  },
  {
   "cell_type": "code",
   "execution_count": 2,
   "id": "ea689ee4-244c-4b28-8044-d2904481dfb5",
   "metadata": {},
   "outputs": [
    {
     "name": "stdout",
     "output_type": "stream",
     "text": [
      "✅ Report Successfully generated for Question ==> 1\n",
      "✅ Report Successfully generated for Question ==> 2\n",
      "✅ Report Successfully generated for Question ==> 3\n"
     ]
    }
   ],
   "source": [
    "report_gen = ReportGenerator()"
   ]
  },
  {
   "cell_type": "code",
   "execution_count": 3,
   "id": "e160746e-9be0-4737-99c9-965e894b8ef6",
   "metadata": {},
   "outputs": [
    {
     "name": "stdout",
     "output_type": "stream",
     "text": [
      "Report saved as Report.txt\n",
      "PDF report saved as output_report.pdf\n"
     ]
    }
   ],
   "source": [
    "report_gen.Generate_PDF_Report('output_report.pdf')"
   ]
  },
  {
   "cell_type": "code",
   "execution_count": null,
   "id": "01c6fee7-acdd-42c9-bf39-09de0b09ff27",
   "metadata": {},
   "outputs": [],
   "source": []
  }
 ],
 "metadata": {
  "kernelspec": {
   "display_name": "Python 3 (ipykernel)",
   "language": "python",
   "name": "python3"
  },
  "language_info": {
   "codemirror_mode": {
    "name": "ipython",
    "version": 3
   },
   "file_extension": ".py",
   "mimetype": "text/x-python",
   "name": "python",
   "nbconvert_exporter": "python",
   "pygments_lexer": "ipython3",
   "version": "3.11.7"
  }
 },
 "nbformat": 4,
 "nbformat_minor": 5
}
